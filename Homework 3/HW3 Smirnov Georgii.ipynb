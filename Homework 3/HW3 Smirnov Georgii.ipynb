{
 "cells": [
  {
   "cell_type": "code",
   "execution_count": 1,
   "metadata": {},
   "outputs": [],
   "source": [
    "import numpy as np\n",
    "import pandas as pd"
   ]
  },
  {
   "cell_type": "markdown",
   "metadata": {},
   "source": [
    "## Создание датасета\n",
    "Так как в датасете https://www.kaggle.com/trolukovich/russian-schools-geodata не оказалось моего города, я создал датасет с школами вручную"
   ]
  },
  {
   "cell_type": "code",
   "execution_count": 2,
   "metadata": {},
   "outputs": [],
   "source": [
    "schools = []\n",
    "addresses = []\n",
    "schools.append(\"Муниципальное автономное общеобразовательное учреждение Гимназия с углубленным изучением инстранных языков\")\n",
    "addresses.append(\"617760, Пермский край, г. Чайковский, ул. Кабалевского, д. 32\")\n",
    "schools.append(\"Муниципальное автономное общеобразовательное учреждение Средняя Общеобразовательная школа № 4\")\n",
    "addresses.append(\"617760, Пермский край, г. Чайковский, ул. Карла Маркса, д. 16/1\")\n",
    "schools.append(\"Муниципальное автономное общеобразовательное учреждение Средняя Общеобразовательная школа № 10\")\n",
    "addresses.append(\"617763, Пермский край, г. Чайковский, ул. Карла Маркса, д. 30А\")\n",
    "schools.append(\"Муниципальное автономное общеобразовательное учреждение Средняя Общеобразовательная школа № 11\")\n",
    "addresses.append(\"617764, Пермский край, г. Чайковский, ул. Вокзальная, д. 51А\")\n",
    "schools.append(\"Муниципальное автономное общеобразовательное учреждение Средняя Общеобразовательная школа № 7\")\n",
    "addresses.append(\"617765, Пермский край, г. Чайковский, ул. просп. Победы, д. 2\")\n",
    "schools.append(\"Муниципальное автономное общеобразовательное учреждение Средняя Общеобразовательная школа № 1\")\n",
    "addresses.append(\"617762, Пермский край, г. Чайковский, ул. Советская, д. 8к1\")\n",
    "schools.append(\"Муниципальное бюджетное общеобразовательное учреждение Основная Общеобразовательная школа № 12\")\n",
    "addresses.append(\"617762, Пермский край, г. Чайковский, ул. Советская, д. 2А\")\n",
    "schools.append(\"Муниципальное автономное общеобразовательное учреждение Средняя Общеобразовательная школа № 2\")\n",
    "addresses.append(\"617765, Пермский край, г. Чайковский, ул. Советская, д. 51\")\n",
    "schools.append(\"Муниципальное автономное общеобразовательное учреждение Средняя Общеобразовательная школа № 8\")\n",
    "addresses.append(\"617766, Пермский край, г. Чайковский, ул. бульвар Текстильщиков, д. 6\")\n",
    "schools.append(\"Муниципальное бюджетное общеобразовательное учреждение Основная Общеобразовательная школа № 13\")\n",
    "addresses.append(\"617766, Пермский край, г. Чайковский, ул. Зеленая, д. 4/4\")\n",
    "lats = [56.77925481428055, 56.77969655981134, 56.77691558984275, \n",
    "        56.769841876595414, 56.763814304694755, 56.76494035101131, \n",
    "        56.7646965659113, 56.758338367285546, 56.74885570595018, \n",
    "        56.74184250340506]\n",
    "lons = [54.15338219833545, 54.14958202106343, 54.14529943376217, \n",
    "        54.15172862444701, 54.14902850991295, 54.09882311571458, \n",
    "        54.10356784204063, 54.09434766374594, 54.15752639217535, \n",
    "        54.167833923387484]\n",
    "my_city_schools = pd.DataFrame({\"Name\":schools, \"Address\":addresses, \"lat\": lats, \"lon\": lons})"
   ]
  },
  {
   "cell_type": "code",
   "execution_count": 3,
   "metadata": {},
   "outputs": [
    {
     "data": {
      "text/html": [
       "<div>\n",
       "<style scoped>\n",
       "    .dataframe tbody tr th:only-of-type {\n",
       "        vertical-align: middle;\n",
       "    }\n",
       "\n",
       "    .dataframe tbody tr th {\n",
       "        vertical-align: top;\n",
       "    }\n",
       "\n",
       "    .dataframe thead th {\n",
       "        text-align: right;\n",
       "    }\n",
       "</style>\n",
       "<table border=\"1\" class=\"dataframe\">\n",
       "  <thead>\n",
       "    <tr style=\"text-align: right;\">\n",
       "      <th></th>\n",
       "      <th>Name</th>\n",
       "      <th>Address</th>\n",
       "      <th>lat</th>\n",
       "      <th>lon</th>\n",
       "    </tr>\n",
       "  </thead>\n",
       "  <tbody>\n",
       "    <tr>\n",
       "      <th>0</th>\n",
       "      <td>Муниципальное автономное общеобразовательное у...</td>\n",
       "      <td>617760, Пермский край, г. Чайковский, ул. Каба...</td>\n",
       "      <td>56.779255</td>\n",
       "      <td>54.153382</td>\n",
       "    </tr>\n",
       "    <tr>\n",
       "      <th>1</th>\n",
       "      <td>Муниципальное автономное общеобразовательное у...</td>\n",
       "      <td>617760, Пермский край, г. Чайковский, ул. Карл...</td>\n",
       "      <td>56.779697</td>\n",
       "      <td>54.149582</td>\n",
       "    </tr>\n",
       "    <tr>\n",
       "      <th>2</th>\n",
       "      <td>Муниципальное автономное общеобразовательное у...</td>\n",
       "      <td>617763, Пермский край, г. Чайковский, ул. Карл...</td>\n",
       "      <td>56.776916</td>\n",
       "      <td>54.145299</td>\n",
       "    </tr>\n",
       "    <tr>\n",
       "      <th>3</th>\n",
       "      <td>Муниципальное автономное общеобразовательное у...</td>\n",
       "      <td>617764, Пермский край, г. Чайковский, ул. Вокз...</td>\n",
       "      <td>56.769842</td>\n",
       "      <td>54.151729</td>\n",
       "    </tr>\n",
       "    <tr>\n",
       "      <th>4</th>\n",
       "      <td>Муниципальное автономное общеобразовательное у...</td>\n",
       "      <td>617765, Пермский край, г. Чайковский, ул. прос...</td>\n",
       "      <td>56.763814</td>\n",
       "      <td>54.149029</td>\n",
       "    </tr>\n",
       "    <tr>\n",
       "      <th>5</th>\n",
       "      <td>Муниципальное автономное общеобразовательное у...</td>\n",
       "      <td>617762, Пермский край, г. Чайковский, ул. Сове...</td>\n",
       "      <td>56.764940</td>\n",
       "      <td>54.098823</td>\n",
       "    </tr>\n",
       "    <tr>\n",
       "      <th>6</th>\n",
       "      <td>Муниципальное бюджетное общеобразовательное уч...</td>\n",
       "      <td>617762, Пермский край, г. Чайковский, ул. Сове...</td>\n",
       "      <td>56.764697</td>\n",
       "      <td>54.103568</td>\n",
       "    </tr>\n",
       "    <tr>\n",
       "      <th>7</th>\n",
       "      <td>Муниципальное автономное общеобразовательное у...</td>\n",
       "      <td>617765, Пермский край, г. Чайковский, ул. Сове...</td>\n",
       "      <td>56.758338</td>\n",
       "      <td>54.094348</td>\n",
       "    </tr>\n",
       "    <tr>\n",
       "      <th>8</th>\n",
       "      <td>Муниципальное автономное общеобразовательное у...</td>\n",
       "      <td>617766, Пермский край, г. Чайковский, ул. буль...</td>\n",
       "      <td>56.748856</td>\n",
       "      <td>54.157526</td>\n",
       "    </tr>\n",
       "    <tr>\n",
       "      <th>9</th>\n",
       "      <td>Муниципальное бюджетное общеобразовательное уч...</td>\n",
       "      <td>617766, Пермский край, г. Чайковский, ул. Зеле...</td>\n",
       "      <td>56.741843</td>\n",
       "      <td>54.167834</td>\n",
       "    </tr>\n",
       "  </tbody>\n",
       "</table>\n",
       "</div>"
      ],
      "text/plain": [
       "                                                Name  \\\n",
       "0  Муниципальное автономное общеобразовательное у...   \n",
       "1  Муниципальное автономное общеобразовательное у...   \n",
       "2  Муниципальное автономное общеобразовательное у...   \n",
       "3  Муниципальное автономное общеобразовательное у...   \n",
       "4  Муниципальное автономное общеобразовательное у...   \n",
       "5  Муниципальное автономное общеобразовательное у...   \n",
       "6  Муниципальное бюджетное общеобразовательное уч...   \n",
       "7  Муниципальное автономное общеобразовательное у...   \n",
       "8  Муниципальное автономное общеобразовательное у...   \n",
       "9  Муниципальное бюджетное общеобразовательное уч...   \n",
       "\n",
       "                                             Address        lat        lon  \n",
       "0  617760, Пермский край, г. Чайковский, ул. Каба...  56.779255  54.153382  \n",
       "1  617760, Пермский край, г. Чайковский, ул. Карл...  56.779697  54.149582  \n",
       "2  617763, Пермский край, г. Чайковский, ул. Карл...  56.776916  54.145299  \n",
       "3  617764, Пермский край, г. Чайковский, ул. Вокз...  56.769842  54.151729  \n",
       "4  617765, Пермский край, г. Чайковский, ул. прос...  56.763814  54.149029  \n",
       "5  617762, Пермский край, г. Чайковский, ул. Сове...  56.764940  54.098823  \n",
       "6  617762, Пермский край, г. Чайковский, ул. Сове...  56.764697  54.103568  \n",
       "7  617765, Пермский край, г. Чайковский, ул. Сове...  56.758338  54.094348  \n",
       "8  617766, Пермский край, г. Чайковский, ул. буль...  56.748856  54.157526  \n",
       "9  617766, Пермский край, г. Чайковский, ул. Зеле...  56.741843  54.167834  "
      ]
     },
     "execution_count": 3,
     "metadata": {},
     "output_type": "execute_result"
    }
   ],
   "source": [
    "my_city_schools.head(10)"
   ]
  },
  {
   "cell_type": "markdown",
   "metadata": {},
   "source": [
    "Моя школа в этом датасете имеет индекс 0"
   ]
  },
  {
   "cell_type": "code",
   "execution_count": 4,
   "metadata": {},
   "outputs": [
    {
     "name": "stdout",
     "output_type": "stream",
     "text": [
      "Муниципальное автономное общеобразовательное учреждение Гимназия с углубленным изучением инстранных языков\n"
     ]
    }
   ],
   "source": [
    "my_school = my_city_schools.loc[0]\n",
    "print(my_school.Name)"
   ]
  },
  {
   "cell_type": "markdown",
   "metadata": {},
   "source": [
    "Для наглядности, добавим в датасет колонку Distance, которая отражает расстояние от конкретной школы до моей"
   ]
  },
  {
   "cell_type": "code",
   "execution_count": 5,
   "metadata": {},
   "outputs": [],
   "source": [
    "from geopy import distance\n",
    "my_city_schools['Distance'] = my_city_schools.apply(lambda r: distance.distance((r['lat'], r['lon']), \n",
    "                                                                                (my_school['lat'], my_school['lon'])\n",
    "                                                                               ).meters, axis=1)\n",
    "my_school = my_city_schools.loc[0]"
   ]
  },
  {
   "cell_type": "markdown",
   "metadata": {},
   "source": [
    "## Построение точек на карте"
   ]
  },
  {
   "cell_type": "code",
   "execution_count": 6,
   "metadata": {},
   "outputs": [],
   "source": [
    "import folium\n",
    "import matplotlib as mpl\n",
    "import matplotlib.cm as cm"
   ]
  },
  {
   "cell_type": "code",
   "execution_count": 7,
   "metadata": {},
   "outputs": [],
   "source": [
    "center = (56.76089068285909, 54.1384652840703)"
   ]
  },
  {
   "cell_type": "code",
   "execution_count": 8,
   "metadata": {},
   "outputs": [],
   "source": [
    "map_folium = folium.Map(location=center,\n",
    "                        tiles=\"Stamen Toner\",\n",
    "                        zoom_start=13)"
   ]
  },
  {
   "cell_type": "markdown",
   "metadata": {},
   "source": [
    "Цвет каждой точки зависит от расстояния до моей школы: чем светлее цвет, тем более удалена школа. При нажатии на маркер можно увидеть название и адрес школы. Точка на карте, связанная с моей школы, для наглядности укрупнена"
   ]
  },
  {
   "cell_type": "code",
   "execution_count": 9,
   "metadata": {},
   "outputs": [
    {
     "data": {
      "text/plain": [
       "<folium.vector_layers.CircleMarker at 0x234b1b56088>"
      ]
     },
     "execution_count": 9,
     "metadata": {},
     "output_type": "execute_result"
    }
   ],
   "source": [
    "from transliterate import translit\n",
    "\n",
    "def text(line):\n",
    "    return \"Name: \" + translit(line.Name, 'ru', reversed=True) + \"<br><br>Address: \" + translit(line.Address, 'ru', reversed=True)\n",
    "\n",
    "norm = mpl.colors.Normalize(vmin=my_city_schools.iloc[1:]['Distance'].min() -100, vmax=my_city_schools[\"Distance\"].max() + 100)\n",
    "cmap = cm.plasma\n",
    "colormap = cm.ScalarMappable(norm=norm, cmap=cmap)\n",
    "for ind, line in my_city_schools.iloc[1:].iterrows():\n",
    "    frame = folium.IFrame(text(line), width=450, height=130)\n",
    "    popup = folium.Popup(frame)\n",
    "    folium.CircleMarker([line['lat'], line['lon']],\n",
    "                       radius=8,\n",
    "                       color=mpl.colors.rgb2hex((colormap.to_rgba(line[\"Distance\"]))),\n",
    "                       fill_color=mpl.colors.rgb2hex((colormap.to_rgba(line[\"Distance\"]))),\n",
    "                       fill=True,\n",
    "                       popup=popup,\n",
    "                       fill_opacity=1.0).add_to(map_folium)\n",
    "frame = folium.IFrame(text(my_school), width=450, height=130)\n",
    "popup = folium.Popup(frame)\n",
    "folium.CircleMarker([my_school.lat, my_school.lon],\n",
    "                       radius=12,\n",
    "                       popup=popup,\n",
    "                       color=mpl.colors.rgb2hex((colormap.to_rgba(my_school[\"Distance\"]))),\n",
    "                       fill_color=mpl.colors.rgb2hex((colormap.to_rgba(my_school[\"Distance\"]))),\n",
    "                       fill=True,\n",
    "                       fill_opacity=0.8).add_to(map_folium)"
   ]
  },
  {
   "cell_type": "code",
   "execution_count": 10,
   "metadata": {},
   "outputs": [
    {
     "data": {
      "text/html": [
       "<div style=\"width:100%;\"><div style=\"position:relative;width:100%;height:0;padding-bottom:60%;\"><span style=\"color:#565656\">Make this Notebook Trusted to load map: File -> Trust Notebook</span><iframe src=\"about:blank\" style=\"position:absolute;width:100%;height:100%;left:0;top:0;border:none !important;\" data-html=PCFET0NUWVBFIGh0bWw+CjxoZWFkPiAgICAKICAgIDxtZXRhIGh0dHAtZXF1aXY9ImNvbnRlbnQtdHlwZSIgY29udGVudD0idGV4dC9odG1sOyBjaGFyc2V0PVVURi04IiAvPgogICAgCiAgICAgICAgPHNjcmlwdD4KICAgICAgICAgICAgTF9OT19UT1VDSCA9IGZhbHNlOwogICAgICAgICAgICBMX0RJU0FCTEVfM0QgPSBmYWxzZTsKICAgICAgICA8L3NjcmlwdD4KICAgIAogICAgPHNjcmlwdCBzcmM9Imh0dHBzOi8vY2RuLmpzZGVsaXZyLm5ldC9ucG0vbGVhZmxldEAxLjYuMC9kaXN0L2xlYWZsZXQuanMiPjwvc2NyaXB0PgogICAgPHNjcmlwdCBzcmM9Imh0dHBzOi8vY29kZS5qcXVlcnkuY29tL2pxdWVyeS0xLjEyLjQubWluLmpzIj48L3NjcmlwdD4KICAgIDxzY3JpcHQgc3JjPSJodHRwczovL21heGNkbi5ib290c3RyYXBjZG4uY29tL2Jvb3RzdHJhcC8zLjIuMC9qcy9ib290c3RyYXAubWluLmpzIj48L3NjcmlwdD4KICAgIDxzY3JpcHQgc3JjPSJodHRwczovL2NkbmpzLmNsb3VkZmxhcmUuY29tL2FqYXgvbGlicy9MZWFmbGV0LmF3ZXNvbWUtbWFya2Vycy8yLjAuMi9sZWFmbGV0LmF3ZXNvbWUtbWFya2Vycy5qcyI+PC9zY3JpcHQ+CiAgICA8bGluayByZWw9InN0eWxlc2hlZXQiIGhyZWY9Imh0dHBzOi8vY2RuLmpzZGVsaXZyLm5ldC9ucG0vbGVhZmxldEAxLjYuMC9kaXN0L2xlYWZsZXQuY3NzIi8+CiAgICA8bGluayByZWw9InN0eWxlc2hlZXQiIGhyZWY9Imh0dHBzOi8vbWF4Y2RuLmJvb3RzdHJhcGNkbi5jb20vYm9vdHN0cmFwLzMuMi4wL2Nzcy9ib290c3RyYXAubWluLmNzcyIvPgogICAgPGxpbmsgcmVsPSJzdHlsZXNoZWV0IiBocmVmPSJodHRwczovL21heGNkbi5ib290c3RyYXBjZG4uY29tL2Jvb3RzdHJhcC8zLjIuMC9jc3MvYm9vdHN0cmFwLXRoZW1lLm1pbi5jc3MiLz4KICAgIDxsaW5rIHJlbD0ic3R5bGVzaGVldCIgaHJlZj0iaHR0cHM6Ly9tYXhjZG4uYm9vdHN0cmFwY2RuLmNvbS9mb250LWF3ZXNvbWUvNC42LjMvY3NzL2ZvbnQtYXdlc29tZS5taW4uY3NzIi8+CiAgICA8bGluayByZWw9InN0eWxlc2hlZXQiIGhyZWY9Imh0dHBzOi8vY2RuanMuY2xvdWRmbGFyZS5jb20vYWpheC9saWJzL0xlYWZsZXQuYXdlc29tZS1tYXJrZXJzLzIuMC4yL2xlYWZsZXQuYXdlc29tZS1tYXJrZXJzLmNzcyIvPgogICAgPGxpbmsgcmVsPSJzdHlsZXNoZWV0IiBocmVmPSJodHRwczovL3Jhd2Nkbi5naXRoYWNrLmNvbS9weXRob24tdmlzdWFsaXphdGlvbi9mb2xpdW0vbWFzdGVyL2ZvbGl1bS90ZW1wbGF0ZXMvbGVhZmxldC5hd2Vzb21lLnJvdGF0ZS5jc3MiLz4KICAgIDxzdHlsZT5odG1sLCBib2R5IHt3aWR0aDogMTAwJTtoZWlnaHQ6IDEwMCU7bWFyZ2luOiAwO3BhZGRpbmc6IDA7fTwvc3R5bGU+CiAgICA8c3R5bGU+I21hcCB7cG9zaXRpb246YWJzb2x1dGU7dG9wOjA7Ym90dG9tOjA7cmlnaHQ6MDtsZWZ0OjA7fTwvc3R5bGU+CiAgICAKICAgICAgICAgICAgPG1ldGEgbmFtZT0idmlld3BvcnQiIGNvbnRlbnQ9IndpZHRoPWRldmljZS13aWR0aCwKICAgICAgICAgICAgICAgIGluaXRpYWwtc2NhbGU9MS4wLCBtYXhpbXVtLXNjYWxlPTEuMCwgdXNlci1zY2FsYWJsZT1ubyIgLz4KICAgICAgICAgICAgPHN0eWxlPgogICAgICAgICAgICAgICAgI21hcF81OWE3M2VjYzY1NDM0N2EwOGUyNmE3YzcwNzE5MDc4YiB7CiAgICAgICAgICAgICAgICAgICAgcG9zaXRpb246IHJlbGF0aXZlOwogICAgICAgICAgICAgICAgICAgIHdpZHRoOiAxMDAuMCU7CiAgICAgICAgICAgICAgICAgICAgaGVpZ2h0OiAxMDAuMCU7CiAgICAgICAgICAgICAgICAgICAgbGVmdDogMC4wJTsKICAgICAgICAgICAgICAgICAgICB0b3A6IDAuMCU7CiAgICAgICAgICAgICAgICB9CiAgICAgICAgICAgIDwvc3R5bGU+CiAgICAgICAgCjwvaGVhZD4KPGJvZHk+ICAgIAogICAgCiAgICAgICAgICAgIDxkaXYgY2xhc3M9ImZvbGl1bS1tYXAiIGlkPSJtYXBfNTlhNzNlY2M2NTQzNDdhMDhlMjZhN2M3MDcxOTA3OGIiID48L2Rpdj4KICAgICAgICAKPC9ib2R5Pgo8c2NyaXB0PiAgICAKICAgIAogICAgICAgICAgICB2YXIgbWFwXzU5YTczZWNjNjU0MzQ3YTA4ZTI2YTdjNzA3MTkwNzhiID0gTC5tYXAoCiAgICAgICAgICAgICAgICAibWFwXzU5YTczZWNjNjU0MzQ3YTA4ZTI2YTdjNzA3MTkwNzhiIiwKICAgICAgICAgICAgICAgIHsKICAgICAgICAgICAgICAgICAgICBjZW50ZXI6IFs1Ni43NjA4OTA2ODI4NTkwOSwgNTQuMTM4NDY1Mjg0MDcwM10sCiAgICAgICAgICAgICAgICAgICAgY3JzOiBMLkNSUy5FUFNHMzg1NywKICAgICAgICAgICAgICAgICAgICB6b29tOiAxMywKICAgICAgICAgICAgICAgICAgICB6b29tQ29udHJvbDogdHJ1ZSwKICAgICAgICAgICAgICAgICAgICBwcmVmZXJDYW52YXM6IGZhbHNlLAogICAgICAgICAgICAgICAgfQogICAgICAgICAgICApOwoKICAgICAgICAgICAgCgogICAgICAgIAogICAgCiAgICAgICAgICAgIHZhciB0aWxlX2xheWVyXzIzZDY1ZjA1MDA1NjQzYTJhZTZhNThlZjZjZGFkNjExID0gTC50aWxlTGF5ZXIoCiAgICAgICAgICAgICAgICAiaHR0cHM6Ly9zdGFtZW4tdGlsZXMte3N9LmEuc3NsLmZhc3RseS5uZXQvdG9uZXIve3p9L3t4fS97eX0ucG5nIiwKICAgICAgICAgICAgICAgIHsiYXR0cmlidXRpb24iOiAiTWFwIHRpbGVzIGJ5IFx1MDAzY2EgaHJlZj1cImh0dHA6Ly9zdGFtZW4uY29tXCJcdTAwM2VTdGFtZW4gRGVzaWduXHUwMDNjL2FcdTAwM2UsIHVuZGVyIFx1MDAzY2EgaHJlZj1cImh0dHA6Ly9jcmVhdGl2ZWNvbW1vbnMub3JnL2xpY2Vuc2VzL2J5LzMuMFwiXHUwMDNlQ0MgQlkgMy4wXHUwMDNjL2FcdTAwM2UuIERhdGEgYnkgXHUwMDI2Y29weTsgXHUwMDNjYSBocmVmPVwiaHR0cDovL29wZW5zdHJlZXRtYXAub3JnXCJcdTAwM2VPcGVuU3RyZWV0TWFwXHUwMDNjL2FcdTAwM2UsIHVuZGVyIFx1MDAzY2EgaHJlZj1cImh0dHA6Ly93d3cub3BlbnN0cmVldG1hcC5vcmcvY29weXJpZ2h0XCJcdTAwM2VPRGJMXHUwMDNjL2FcdTAwM2UuIiwgImRldGVjdFJldGluYSI6IGZhbHNlLCAibWF4TmF0aXZlWm9vbSI6IDE4LCAibWF4Wm9vbSI6IDE4LCAibWluWm9vbSI6IDAsICJub1dyYXAiOiBmYWxzZSwgIm9wYWNpdHkiOiAxLCAic3ViZG9tYWlucyI6ICJhYmMiLCAidG1zIjogZmFsc2V9CiAgICAgICAgICAgICkuYWRkVG8obWFwXzU5YTczZWNjNjU0MzQ3YTA4ZTI2YTdjNzA3MTkwNzhiKTsKICAgICAgICAKICAgIAogICAgICAgICAgICB2YXIgY2lyY2xlX21hcmtlcl80NzI2NTNjMmU4MzA0NGUwOTExMWNmMjRiMTIyZTZlMiA9IEwuY2lyY2xlTWFya2VyKAogICAgICAgICAgICAgICAgWzU2Ljc3OTY5NjU1OTgxMTM0LCA1NC4xNDk1ODIwMjEwNjM0M10sCiAgICAgICAgICAgICAgICB7ImJ1YmJsaW5nTW91c2VFdmVudHMiOiB0cnVlLCAiY29sb3IiOiAiIzFkMDY4ZSIsICJkYXNoQXJyYXkiOiBudWxsLCAiZGFzaE9mZnNldCI6IG51bGwsICJmaWxsIjogdHJ1ZSwgImZpbGxDb2xvciI6ICIjMWQwNjhlIiwgImZpbGxPcGFjaXR5IjogMS4wLCAiZmlsbFJ1bGUiOiAiZXZlbm9kZCIsICJsaW5lQ2FwIjogInJvdW5kIiwgImxpbmVKb2luIjogInJvdW5kIiwgIm9wYWNpdHkiOiAxLjAsICJyYWRpdXMiOiA4LCAic3Ryb2tlIjogdHJ1ZSwgIndlaWdodCI6IDN9CiAgICAgICAgICAgICkuYWRkVG8obWFwXzU5YTczZWNjNjU0MzQ3YTA4ZTI2YTdjNzA3MTkwNzhiKTsKICAgICAgICAKICAgIAogICAgICAgIHZhciBwb3B1cF9kMWQ0YjgwODNlNzE0ZjhhOGQ0MzQzYzE5MWZmZTllOCA9IEwucG9wdXAoeyJtYXhXaWR0aCI6ICIxMDAlIn0pOwoKICAgICAgICAKICAgICAgICAgICAgdmFyIGlfZnJhbWVfNjI2YzQxOTNiMzc3NGFlNWIyYWE1MTI2ZDMxM2RiNjUgPSAkKGA8aWZyYW1lIHNyYz0iZGF0YTp0ZXh0L2h0bWw7Y2hhcnNldD11dGYtODtiYXNlNjQsQ2lBZ0lDQk9ZVzFsT2lCTmRXNXBkSE5wY0dGc0oyNXZaU0JoZG5SdmJtOXRibTlsSUc5aWMyTm9aVzlpY21GNmIzWmhkR1ZzSjI1dlpTQjFZMmh5Wlhwb1pHVnVhV1VnVTNKbFpHNXFZV3BoSUU5aWMyTm9aVzlpY21GNmIzWmhkR1ZzSjI1aGFtRWdjMmhyYjJ4aElPS0VsaUEwUEdKeVBqeGljajVCWkdSeVpYTnpPaUEyTVRjM05qQXNJRkJsY20xemEybHFJR3R5WVdvc0lHY3VJRU5vWVdwcmIzWnphMmxxTENCMWJDNGdTMkZ5YkdFZ1RXRnlhM05oTENCa0xpQXhOaTh4IiB3aWR0aD0iNDUwIiBzdHlsZT0iYm9yZGVyOm5vbmUgIWltcG9ydGFudDsiIGhlaWdodD0iMTMwIj48L2lmcmFtZT5gKVswXTsKICAgICAgICAgICAgcG9wdXBfZDFkNGI4MDgzZTcxNGY4YThkNDM0M2MxOTFmZmU5ZTguc2V0Q29udGVudChpX2ZyYW1lXzYyNmM0MTkzYjM3NzRhZTViMmFhNTEyNmQzMTNkYjY1KTsKICAgICAgICAKCiAgICAgICAgY2lyY2xlX21hcmtlcl80NzI2NTNjMmU4MzA0NGUwOTExMWNmMjRiMTIyZTZlMi5iaW5kUG9wdXAocG9wdXBfZDFkNGI4MDgzZTcxNGY4YThkNDM0M2MxOTFmZmU5ZTgpCiAgICAgICAgOwoKICAgICAgICAKICAgIAogICAgCiAgICAgICAgICAgIHZhciBjaXJjbGVfbWFya2VyXzI5OTVjNmFkYmU0NDRkNzE5NjA0ZjAzZTM5N2Y0MWEwID0gTC5jaXJjbGVNYXJrZXIoCiAgICAgICAgICAgICAgICBbNTYuNzc2OTE1NTg5ODQyNzUsIDU0LjE0NTI5OTQzMzc2MjE3XSwKICAgICAgICAgICAgICAgIHsiYnViYmxpbmdNb3VzZUV2ZW50cyI6IHRydWUsICJjb2xvciI6ICIjNDEwNDlkIiwgImRhc2hBcnJheSI6IG51bGwsICJkYXNoT2Zmc2V0IjogbnVsbCwgImZpbGwiOiB0cnVlLCAiZmlsbENvbG9yIjogIiM0MTA0OWQiLCAiZmlsbE9wYWNpdHkiOiAxLjAsICJmaWxsUnVsZSI6ICJldmVub2RkIiwgImxpbmVDYXAiOiAicm91bmQiLCAibGluZUpvaW4iOiAicm91bmQiLCAib3BhY2l0eSI6IDEuMCwgInJhZGl1cyI6IDgsICJzdHJva2UiOiB0cnVlLCAid2VpZ2h0IjogM30KICAgICAgICAgICAgKS5hZGRUbyhtYXBfNTlhNzNlY2M2NTQzNDdhMDhlMjZhN2M3MDcxOTA3OGIpOwogICAgICAgIAogICAgCiAgICAgICAgdmFyIHBvcHVwX2RlNGQ2NWQ3ZWI1YTQyMzVhNDk1ZTcyOWFjNTFhNGU5ID0gTC5wb3B1cCh7Im1heFdpZHRoIjogIjEwMCUifSk7CgogICAgICAgIAogICAgICAgICAgICB2YXIgaV9mcmFtZV81MjUxMTgwY2RlYzQ0YmU3YTNjOGY0ZGNhYTRiNmZlMyA9ICQoYDxpZnJhbWUgc3JjPSJkYXRhOnRleHQvaHRtbDtjaGFyc2V0PXV0Zi04O2Jhc2U2NCxDaUFnSUNCT1lXMWxPaUJOZFc1cGRITnBjR0ZzSjI1dlpTQmhkblJ2Ym05dGJtOWxJRzlpYzJOb1pXOWljbUY2YjNaaGRHVnNKMjV2WlNCMVkyaHlaWHBvWkdWdWFXVWdVM0psWkc1cVlXcGhJRTlpYzJOb1pXOWljbUY2YjNaaGRHVnNKMjVoYW1FZ2MyaHJiMnhoSU9LRWxpQXhNRHhpY2o0OFluSStRV1JrY21WemN6b2dOakUzTnpZekxDQlFaWEp0YzJ0cGFpQnJjbUZxTENCbkxpQkRhR0ZxYTI5MmMydHBhaXdnZFd3dUlFdGhjbXhoSUUxaGNtdHpZU3dnWkM0Z016QkIiIHdpZHRoPSI0NTAiIHN0eWxlPSJib3JkZXI6bm9uZSAhaW1wb3J0YW50OyIgaGVpZ2h0PSIxMzAiPjwvaWZyYW1lPmApWzBdOwogICAgICAgICAgICBwb3B1cF9kZTRkNjVkN2ViNWE0MjM1YTQ5NWU3MjlhYzUxYTRlOS5zZXRDb250ZW50KGlfZnJhbWVfNTI1MTE4MGNkZWM0NGJlN2EzYzhmNGRjYWE0YjZmZTMpOwogICAgICAgIAoKICAgICAgICBjaXJjbGVfbWFya2VyXzI5OTVjNmFkYmU0NDRkNzE5NjA0ZjAzZTM5N2Y0MWEwLmJpbmRQb3B1cChwb3B1cF9kZTRkNjVkN2ViNWE0MjM1YTQ5NWU3MjlhYzUxYTRlOSkKICAgICAgICA7CgogICAgICAgIAogICAgCiAgICAKICAgICAgICAgICAgdmFyIGNpcmNsZV9tYXJrZXJfYWMzMDIwODZmZGExNDIwMjhhMmQ1ZmE4MzkyZTFmNGQgPSBMLmNpcmNsZU1hcmtlcigKICAgICAgICAgICAgICAgIFs1Ni43Njk4NDE4NzY1OTU0MTQsIDU0LjE1MTcyODYyNDQ0NzAxXSwKICAgICAgICAgICAgICAgIHsiYnViYmxpbmdNb3VzZUV2ZW50cyI6IHRydWUsICJjb2xvciI6ICIjNzEwMGE4IiwgImRhc2hBcnJheSI6IG51bGwsICJkYXNoT2Zmc2V0IjogbnVsbCwgImZpbGwiOiB0cnVlLCAiZmlsbENvbG9yIjogIiM3MTAwYTgiLCAiZmlsbE9wYWNpdHkiOiAxLjAsICJmaWxsUnVsZSI6ICJldmVub2RkIiwgImxpbmVDYXAiOiAicm91bmQiLCAibGluZUpvaW4iOiAicm91bmQiLCAib3BhY2l0eSI6IDEuMCwgInJhZGl1cyI6IDgsICJzdHJva2UiOiB0cnVlLCAid2VpZ2h0IjogM30KICAgICAgICAgICAgKS5hZGRUbyhtYXBfNTlhNzNlY2M2NTQzNDdhMDhlMjZhN2M3MDcxOTA3OGIpOwogICAgICAgIAogICAgCiAgICAgICAgdmFyIHBvcHVwXzRiNmMwZjk5MTExYjQ1ZjdhOGFmMTFlMjM2MTU5Zjk5ID0gTC5wb3B1cCh7Im1heFdpZHRoIjogIjEwMCUifSk7CgogICAgICAgIAogICAgICAgICAgICB2YXIgaV9mcmFtZV9iZmRjODQ1Y2E5MTQ0N2UwYTk1NzIxMjlmZTJkMWZmNSA9ICQoYDxpZnJhbWUgc3JjPSJkYXRhOnRleHQvaHRtbDtjaGFyc2V0PXV0Zi04O2Jhc2U2NCxDaUFnSUNCT1lXMWxPaUJOZFc1cGRITnBjR0ZzSjI1dlpTQmhkblJ2Ym05dGJtOWxJRzlpYzJOb1pXOWljbUY2YjNaaGRHVnNKMjV2WlNCMVkyaHlaWHBvWkdWdWFXVWdVM0psWkc1cVlXcGhJRTlpYzJOb1pXOWljbUY2YjNaaGRHVnNKMjVoYW1FZ2MyaHJiMnhoSU9LRWxpQXhNVHhpY2o0OFluSStRV1JrY21WemN6b2dOakUzTnpZMExDQlFaWEp0YzJ0cGFpQnJjbUZxTENCbkxpQkRhR0ZxYTI5MmMydHBhaXdnZFd3dUlGWnZhM3BoYkNkdVlXcGhMQ0JrTGlBMU1VRT0iIHdpZHRoPSI0NTAiIHN0eWxlPSJib3JkZXI6bm9uZSAhaW1wb3J0YW50OyIgaGVpZ2h0PSIxMzAiPjwvaWZyYW1lPmApWzBdOwogICAgICAgICAgICBwb3B1cF80YjZjMGY5OTExMWI0NWY3YThhZjExZTIzNjE1OWY5OS5zZXRDb250ZW50KGlfZnJhbWVfYmZkYzg0NWNhOTE0NDdlMGE5NTcyMTI5ZmUyZDFmZjUpOwogICAgICAgIAoKICAgICAgICBjaXJjbGVfbWFya2VyX2FjMzAyMDg2ZmRhMTQyMDI4YTJkNWZhODM5MmUxZjRkLmJpbmRQb3B1cChwb3B1cF80YjZjMGY5OTExMWI0NWY3YThhZjExZTIzNjE1OWY5OSkKICAgICAgICA7CgogICAgICAgIAogICAgCiAgICAKICAgICAgICAgICAgdmFyIGNpcmNsZV9tYXJrZXJfODJmYmY1ZGI4ZjU3NDgzMTliNjBmYzU3OGM3YTcyZTQgPSBMLmNpcmNsZU1hcmtlcigKICAgICAgICAgICAgICAgIFs1Ni43NjM4MTQzMDQ2OTQ3NTUsIDU0LjE0OTAyODUwOTkxMjk1XSwKICAgICAgICAgICAgICAgIHsiYnViYmxpbmdNb3VzZUV2ZW50cyI6IHRydWUsICJjb2xvciI6ICIjYWEyMzk1IiwgImRhc2hBcnJheSI6IG51bGwsICJkYXNoT2Zmc2V0IjogbnVsbCwgImZpbGwiOiB0cnVlLCAiZmlsbENvbG9yIjogIiNhYTIzOTUiLCAiZmlsbE9wYWNpdHkiOiAxLjAsICJmaWxsUnVsZSI6ICJldmVub2RkIiwgImxpbmVDYXAiOiAicm91bmQiLCAibGluZUpvaW4iOiAicm91bmQiLCAib3BhY2l0eSI6IDEuMCwgInJhZGl1cyI6IDgsICJzdHJva2UiOiB0cnVlLCAid2VpZ2h0IjogM30KICAgICAgICAgICAgKS5hZGRUbyhtYXBfNTlhNzNlY2M2NTQzNDdhMDhlMjZhN2M3MDcxOTA3OGIpOwogICAgICAgIAogICAgCiAgICAgICAgdmFyIHBvcHVwX2M5MTJiNjQ3OGMyMzRiOTE4MWIzODFhNDNkY2Y5ZmU2ID0gTC5wb3B1cCh7Im1heFdpZHRoIjogIjEwMCUifSk7CgogICAgICAgIAogICAgICAgICAgICB2YXIgaV9mcmFtZV8zNjJjOTVhMTkxY2M0N2NkOWNhY2ZlNDIyY2QwOTMwZiA9ICQoYDxpZnJhbWUgc3JjPSJkYXRhOnRleHQvaHRtbDtjaGFyc2V0PXV0Zi04O2Jhc2U2NCxDaUFnSUNCT1lXMWxPaUJOZFc1cGRITnBjR0ZzSjI1dlpTQmhkblJ2Ym05dGJtOWxJRzlpYzJOb1pXOWljbUY2YjNaaGRHVnNKMjV2WlNCMVkyaHlaWHBvWkdWdWFXVWdVM0psWkc1cVlXcGhJRTlpYzJOb1pXOWljbUY2YjNaaGRHVnNKMjVoYW1FZ2MyaHJiMnhoSU9LRWxpQTNQR0p5UGp4aWNqNUJaR1J5WlhOek9pQTJNVGMzTmpVc0lGQmxjbTF6YTJscUlHdHlZV29zSUdjdUlFTm9ZV3ByYjNaemEybHFMQ0IxYkM0Z2NISnZjM0F1SUZCdlltVmtlU3dnWkM0Z01nPT0iIHdpZHRoPSI0NTAiIHN0eWxlPSJib3JkZXI6bm9uZSAhaW1wb3J0YW50OyIgaGVpZ2h0PSIxMzAiPjwvaWZyYW1lPmApWzBdOwogICAgICAgICAgICBwb3B1cF9jOTEyYjY0NzhjMjM0YjkxODFiMzgxYTQzZGNmOWZlNi5zZXRDb250ZW50KGlfZnJhbWVfMzYyYzk1YTE5MWNjNDdjZDljYWNmZTQyMmNkMDkzMGYpOwogICAgICAgIAoKICAgICAgICBjaXJjbGVfbWFya2VyXzgyZmJmNWRiOGY1NzQ4MzE5YjYwZmM1NzhjN2E3MmU0LmJpbmRQb3B1cChwb3B1cF9jOTEyYjY0NzhjMjM0YjkxODFiMzgxYTQzZGNmOWZlNikKICAgICAgICA7CgogICAgICAgIAogICAgCiAgICAKICAgICAgICAgICAgdmFyIGNpcmNsZV9tYXJrZXJfOWJiNGZjZGQ4MGMxNGQ1YWI1OTI2M2NjZjFmNTRkZTEgPSBMLmNpcmNsZU1hcmtlcigKICAgICAgICAgICAgICAgIFs1Ni43NjQ5NDAzNTEwMTEzMSwgNTQuMDk4ODIzMTE1NzE0NThdLAogICAgICAgICAgICAgICAgeyJidWJibGluZ01vdXNlRXZlbnRzIjogdHJ1ZSwgImNvbG9yIjogIiNmZGI0MmYiLCAiZGFzaEFycmF5IjogbnVsbCwgImRhc2hPZmZzZXQiOiBudWxsLCAiZmlsbCI6IHRydWUsICJmaWxsQ29sb3IiOiAiI2ZkYjQyZiIsICJmaWxsT3BhY2l0eSI6IDEuMCwgImZpbGxSdWxlIjogImV2ZW5vZGQiLCAibGluZUNhcCI6ICJyb3VuZCIsICJsaW5lSm9pbiI6ICJyb3VuZCIsICJvcGFjaXR5IjogMS4wLCAicmFkaXVzIjogOCwgInN0cm9rZSI6IHRydWUsICJ3ZWlnaHQiOiAzfQogICAgICAgICAgICApLmFkZFRvKG1hcF81OWE3M2VjYzY1NDM0N2EwOGUyNmE3YzcwNzE5MDc4Yik7CiAgICAgICAgCiAgICAKICAgICAgICB2YXIgcG9wdXBfMzY3YWI2MDExOWFkNDk0YjgzMGIyZTViODdjM2UyYmIgPSBMLnBvcHVwKHsibWF4V2lkdGgiOiAiMTAwJSJ9KTsKCiAgICAgICAgCiAgICAgICAgICAgIHZhciBpX2ZyYW1lX2U3MzU3M2M1MjIxNzQ2OTQ5NjBiMjIwMmVlM2Y5MmJkID0gJChgPGlmcmFtZSBzcmM9ImRhdGE6dGV4dC9odG1sO2NoYXJzZXQ9dXRmLTg7YmFzZTY0LENpQWdJQ0JPWVcxbE9pQk5kVzVwZEhOcGNHRnNKMjV2WlNCaGRuUnZibTl0Ym05bElHOWljMk5vWlc5aWNtRjZiM1poZEdWc0oyNXZaU0IxWTJoeVpYcG9aR1Z1YVdVZ1UzSmxaRzVxWVdwaElFOWljMk5vWlc5aWNtRjZiM1poZEdWc0oyNWhhbUVnYzJocmIyeGhJT0tFbGlBeFBHSnlQanhpY2o1QlpHUnlaWE56T2lBMk1UYzNOaklzSUZCbGNtMXphMmxxSUd0eVlXb3NJR2N1SUVOb1lXcHJiM1p6YTJscUxDQjFiQzRnVTI5MlpYUnphMkZxWVN3Z1pDNGdPR3N4IiB3aWR0aD0iNDUwIiBzdHlsZT0iYm9yZGVyOm5vbmUgIWltcG9ydGFudDsiIGhlaWdodD0iMTMwIj48L2lmcmFtZT5gKVswXTsKICAgICAgICAgICAgcG9wdXBfMzY3YWI2MDExOWFkNDk0YjgzMGIyZTViODdjM2UyYmIuc2V0Q29udGVudChpX2ZyYW1lX2U3MzU3M2M1MjIxNzQ2OTQ5NjBiMjIwMmVlM2Y5MmJkKTsKICAgICAgICAKCiAgICAgICAgY2lyY2xlX21hcmtlcl85YmI0ZmNkZDgwYzE0ZDVhYjU5MjYzY2NmMWY1NGRlMS5iaW5kUG9wdXAocG9wdXBfMzY3YWI2MDExOWFkNDk0YjgzMGIyZTViODdjM2UyYmIpCiAgICAgICAgOwoKICAgICAgICAKICAgIAogICAgCiAgICAgICAgICAgIHZhciBjaXJjbGVfbWFya2VyXzZlMmI0M2RmYzRiYzRhOWU4OTEwYTQyNGE5YWQwYTQyID0gTC5jaXJjbGVNYXJrZXIoCiAgICAgICAgICAgICAgICBbNTYuNzY0Njk2NTY1OTExMywgNTQuMTAzNTY3ODQyMDQwNjNdLAogICAgICAgICAgICAgICAgeyJidWJibGluZ01vdXNlRXZlbnRzIjogdHJ1ZSwgImNvbG9yIjogIiNmYjlmM2EiLCAiZGFzaEFycmF5IjogbnVsbCwgImRhc2hPZmZzZXQiOiBudWxsLCAiZmlsbCI6IHRydWUsICJmaWxsQ29sb3IiOiAiI2ZiOWYzYSIsICJmaWxsT3BhY2l0eSI6IDEuMCwgImZpbGxSdWxlIjogImV2ZW5vZGQiLCAibGluZUNhcCI6ICJyb3VuZCIsICJsaW5lSm9pbiI6ICJyb3VuZCIsICJvcGFjaXR5IjogMS4wLCAicmFkaXVzIjogOCwgInN0cm9rZSI6IHRydWUsICJ3ZWlnaHQiOiAzfQogICAgICAgICAgICApLmFkZFRvKG1hcF81OWE3M2VjYzY1NDM0N2EwOGUyNmE3YzcwNzE5MDc4Yik7CiAgICAgICAgCiAgICAKICAgICAgICB2YXIgcG9wdXBfZjE4OTUzYjEzZjVjNDliMWE0ZjNiNzkwMTg3ODRiYWIgPSBMLnBvcHVwKHsibWF4V2lkdGgiOiAiMTAwJSJ9KTsKCiAgICAgICAgCiAgICAgICAgICAgIHZhciBpX2ZyYW1lX2ZiMWQxZDNhNzFmMTQwZTE4YjY4ZjUxZjdmY2UxNzU5ID0gJChgPGlmcmFtZSBzcmM9ImRhdGE6dGV4dC9odG1sO2NoYXJzZXQ9dXRmLTg7YmFzZTY0LENpQWdJQ0JPWVcxbE9pQk5kVzVwZEhOcGNHRnNKMjV2WlNCaWFuVmtlbWhsZEc1dlpTQnZZbk5qYUdWdlluSmhlbTkyWVhSbGJDZHViMlVnZFdOb2NtVjZhR1JsYm1sbElFOXpibTkyYm1GcVlTQlBZbk5qYUdWdlluSmhlbTkyWVhSbGJDZHVZV3BoSUhOb2EyOXNZU0RpaEpZZ01USThZbkkrUEdKeVBrRmtaSEpsYzNNNklEWXhOemMyTWl3Z1VHVnliWE5yYVdvZ2EzSmhhaXdnWnk0Z1EyaGhhbXR2ZG5OcmFXb3NJSFZzTGlCVGIzWmxkSE5yWVdwaExDQmtMaUF5UVE9PSIgd2lkdGg9IjQ1MCIgc3R5bGU9ImJvcmRlcjpub25lICFpbXBvcnRhbnQ7IiBoZWlnaHQ9IjEzMCI+PC9pZnJhbWU+YClbMF07CiAgICAgICAgICAgIHBvcHVwX2YxODk1M2IxM2Y1YzQ5YjFhNGYzYjc5MDE4Nzg0YmFiLnNldENvbnRlbnQoaV9mcmFtZV9mYjFkMWQzYTcxZjE0MGUxOGI2OGY1MWY3ZmNlMTc1OSk7CiAgICAgICAgCgogICAgICAgIGNpcmNsZV9tYXJrZXJfNmUyYjQzZGZjNGJjNGE5ZTg5MTBhNDI0YTlhZDBhNDIuYmluZFBvcHVwKHBvcHVwX2YxODk1M2IxM2Y1YzQ5YjFhNGYzYjc5MDE4Nzg0YmFiKQogICAgICAgIDsKCiAgICAgICAgCiAgICAKICAgIAogICAgICAgICAgICB2YXIgY2lyY2xlX21hcmtlcl82NjM0YWI3ZmJiMTU0Yjg5YTI5N2UxZTU1MDE2M2MyZiA9IEwuY2lyY2xlTWFya2VyKAogICAgICAgICAgICAgICAgWzU2Ljc1ODMzODM2NzI4NTU0NiwgNTQuMDk0MzQ3NjYzNzQ1OTRdLAogICAgICAgICAgICAgICAgeyJidWJibGluZ01vdXNlRXZlbnRzIjogdHJ1ZSwgImNvbG9yIjogIiNmM2VlMjciLCAiZGFzaEFycmF5IjogbnVsbCwgImRhc2hPZmZzZXQiOiBudWxsLCAiZmlsbCI6IHRydWUsICJmaWxsQ29sb3IiOiAiI2YzZWUyNyIsICJmaWxsT3BhY2l0eSI6IDEuMCwgImZpbGxSdWxlIjogImV2ZW5vZGQiLCAibGluZUNhcCI6ICJyb3VuZCIsICJsaW5lSm9pbiI6ICJyb3VuZCIsICJvcGFjaXR5IjogMS4wLCAicmFkaXVzIjogOCwgInN0cm9rZSI6IHRydWUsICJ3ZWlnaHQiOiAzfQogICAgICAgICAgICApLmFkZFRvKG1hcF81OWE3M2VjYzY1NDM0N2EwOGUyNmE3YzcwNzE5MDc4Yik7CiAgICAgICAgCiAgICAKICAgICAgICB2YXIgcG9wdXBfMWU2MzUxNGU1NTczNDE1YzgxODEzNjRiZGFhZTI2MDMgPSBMLnBvcHVwKHsibWF4V2lkdGgiOiAiMTAwJSJ9KTsKCiAgICAgICAgCiAgICAgICAgICAgIHZhciBpX2ZyYW1lXzAwZWUxM2VjM2UzZjRlODY4OWJiMzA3NTQ1OGNjMzgyID0gJChgPGlmcmFtZSBzcmM9ImRhdGE6dGV4dC9odG1sO2NoYXJzZXQ9dXRmLTg7YmFzZTY0LENpQWdJQ0JPWVcxbE9pQk5kVzVwZEhOcGNHRnNKMjV2WlNCaGRuUnZibTl0Ym05bElHOWljMk5vWlc5aWNtRjZiM1poZEdWc0oyNXZaU0IxWTJoeVpYcG9aR1Z1YVdVZ1UzSmxaRzVxWVdwaElFOWljMk5vWlc5aWNtRjZiM1poZEdWc0oyNWhhbUVnYzJocmIyeGhJT0tFbGlBeVBHSnlQanhpY2o1QlpHUnlaWE56T2lBMk1UYzNOalVzSUZCbGNtMXphMmxxSUd0eVlXb3NJR2N1SUVOb1lXcHJiM1p6YTJscUxDQjFiQzRnVTI5MlpYUnphMkZxWVN3Z1pDNGdOVEU9IiB3aWR0aD0iNDUwIiBzdHlsZT0iYm9yZGVyOm5vbmUgIWltcG9ydGFudDsiIGhlaWdodD0iMTMwIj48L2lmcmFtZT5gKVswXTsKICAgICAgICAgICAgcG9wdXBfMWU2MzUxNGU1NTczNDE1YzgxODEzNjRiZGFhZTI2MDMuc2V0Q29udGVudChpX2ZyYW1lXzAwZWUxM2VjM2UzZjRlODY4OWJiMzA3NTQ1OGNjMzgyKTsKICAgICAgICAKCiAgICAgICAgY2lyY2xlX21hcmtlcl82NjM0YWI3ZmJiMTU0Yjg5YTI5N2UxZTU1MDE2M2MyZi5iaW5kUG9wdXAocG9wdXBfMWU2MzUxNGU1NTczNDE1YzgxODEzNjRiZGFhZTI2MDMpCiAgICAgICAgOwoKICAgICAgICAKICAgIAogICAgCiAgICAgICAgICAgIHZhciBjaXJjbGVfbWFya2VyXzhiYzc3Mzc2ZGNiZjQ0Y2E5MTNhMjM2ZDI4ZjA3OGE0ID0gTC5jaXJjbGVNYXJrZXIoCiAgICAgICAgICAgICAgICBbNTYuNzQ4ODU1NzA1OTUwMTgsIDU0LjE1NzUyNjM5MjE3NTM1XSwKICAgICAgICAgICAgICAgIHsiYnViYmxpbmdNb3VzZUV2ZW50cyI6IHRydWUsICJjb2xvciI6ICIjZjk5YTNlIiwgImRhc2hBcnJheSI6IG51bGwsICJkYXNoT2Zmc2V0IjogbnVsbCwgImZpbGwiOiB0cnVlLCAiZmlsbENvbG9yIjogIiNmOTlhM2UiLCAiZmlsbE9wYWNpdHkiOiAxLjAsICJmaWxsUnVsZSI6ICJldmVub2RkIiwgImxpbmVDYXAiOiAicm91bmQiLCAibGluZUpvaW4iOiAicm91bmQiLCAib3BhY2l0eSI6IDEuMCwgInJhZGl1cyI6IDgsICJzdHJva2UiOiB0cnVlLCAid2VpZ2h0IjogM30KICAgICAgICAgICAgKS5hZGRUbyhtYXBfNTlhNzNlY2M2NTQzNDdhMDhlMjZhN2M3MDcxOTA3OGIpOwogICAgICAgIAogICAgCiAgICAgICAgdmFyIHBvcHVwXzdlMmZlYzNhNjMwNTQwNzc5ZDJhY2RlMzk2NzViYjgzID0gTC5wb3B1cCh7Im1heFdpZHRoIjogIjEwMCUifSk7CgogICAgICAgIAogICAgICAgICAgICB2YXIgaV9mcmFtZV9mYWZmYzFjNWFmNWU0OGZhYmYxOWY2MTY5YjQxNjY2MyA9ICQoYDxpZnJhbWUgc3JjPSJkYXRhOnRleHQvaHRtbDtjaGFyc2V0PXV0Zi04O2Jhc2U2NCxDaUFnSUNCT1lXMWxPaUJOZFc1cGRITnBjR0ZzSjI1dlpTQmhkblJ2Ym05dGJtOWxJRzlpYzJOb1pXOWljbUY2YjNaaGRHVnNKMjV2WlNCMVkyaHlaWHBvWkdWdWFXVWdVM0psWkc1cVlXcGhJRTlpYzJOb1pXOWljbUY2YjNaaGRHVnNKMjVoYW1FZ2MyaHJiMnhoSU9LRWxpQTRQR0p5UGp4aWNqNUJaR1J5WlhOek9pQTJNVGMzTmpZc0lGQmxjbTF6YTJscUlHdHlZV29zSUdjdUlFTm9ZV3ByYjNaemEybHFMQ0IxYkM0Z1luVnNKM1poY2lCVVpXdHpkR2xzSjNOamFHbHJiM1lzSUdRdUlEWT0iIHdpZHRoPSI0NTAiIHN0eWxlPSJib3JkZXI6bm9uZSAhaW1wb3J0YW50OyIgaGVpZ2h0PSIxMzAiPjwvaWZyYW1lPmApWzBdOwogICAgICAgICAgICBwb3B1cF83ZTJmZWMzYTYzMDU0MDc3OWQyYWNkZTM5Njc1YmI4My5zZXRDb250ZW50KGlfZnJhbWVfZmFmZmMxYzVhZjVlNDhmYWJmMTlmNjE2OWI0MTY2NjMpOwogICAgICAgIAoKICAgICAgICBjaXJjbGVfbWFya2VyXzhiYzc3Mzc2ZGNiZjQ0Y2E5MTNhMjM2ZDI4ZjA3OGE0LmJpbmRQb3B1cChwb3B1cF83ZTJmZWMzYTYzMDU0MDc3OWQyYWNkZTM5Njc1YmI4MykKICAgICAgICA7CgogICAgICAgIAogICAgCiAgICAKICAgICAgICAgICAgdmFyIGNpcmNsZV9tYXJrZXJfODlhYTJkNzE0MTYwNDZkNDhkY2VhZDAyM2RlNjYwYmEgPSBMLmNpcmNsZU1hcmtlcigKICAgICAgICAgICAgICAgIFs1Ni43NDE4NDI1MDM0MDUwNiwgNTQuMTY3ODMzOTIzMzg3NDg0XSwKICAgICAgICAgICAgICAgIHsiYnViYmxpbmdNb3VzZUV2ZW50cyI6IHRydWUsICJjb2xvciI6ICIjZjVlYjI3IiwgImRhc2hBcnJheSI6IG51bGwsICJkYXNoT2Zmc2V0IjogbnVsbCwgImZpbGwiOiB0cnVlLCAiZmlsbENvbG9yIjogIiNmNWViMjciLCAiZmlsbE9wYWNpdHkiOiAxLjAsICJmaWxsUnVsZSI6ICJldmVub2RkIiwgImxpbmVDYXAiOiAicm91bmQiLCAibGluZUpvaW4iOiAicm91bmQiLCAib3BhY2l0eSI6IDEuMCwgInJhZGl1cyI6IDgsICJzdHJva2UiOiB0cnVlLCAid2VpZ2h0IjogM30KICAgICAgICAgICAgKS5hZGRUbyhtYXBfNTlhNzNlY2M2NTQzNDdhMDhlMjZhN2M3MDcxOTA3OGIpOwogICAgICAgIAogICAgCiAgICAgICAgdmFyIHBvcHVwXzNhMmE3YTcxODIzNTRlZmJhZTNkNDdiN2U2OWQ0YTJhID0gTC5wb3B1cCh7Im1heFdpZHRoIjogIjEwMCUifSk7CgogICAgICAgIAogICAgICAgICAgICB2YXIgaV9mcmFtZV9hOTM0NjQzYmEwYTE0MjFkOGFjNTBmMDdhYTkzYzczOSA9ICQoYDxpZnJhbWUgc3JjPSJkYXRhOnRleHQvaHRtbDtjaGFyc2V0PXV0Zi04O2Jhc2U2NCxDaUFnSUNCT1lXMWxPaUJOZFc1cGRITnBjR0ZzSjI1dlpTQmlhblZrZW1obGRHNXZaU0J2WW5OamFHVnZZbkpoZW05MllYUmxiQ2R1YjJVZ2RXTm9jbVY2YUdSbGJtbGxJRTl6Ym05MmJtRnFZU0JQWW5OamFHVnZZbkpoZW05MllYUmxiQ2R1WVdwaElITm9hMjlzWVNEaWhKWWdNVE04WW5JK1BHSnlQa0ZrWkhKbGMzTTZJRFl4TnpjMk5pd2dVR1Z5YlhOcmFXb2dhM0poYWl3Z1p5NGdRMmhoYW10dmRuTnJhV29zSUhWc0xpQmFaV3hsYm1GcVlTd2daQzRnTkM4MCIgd2lkdGg9IjQ1MCIgc3R5bGU9ImJvcmRlcjpub25lICFpbXBvcnRhbnQ7IiBoZWlnaHQ9IjEzMCI+PC9pZnJhbWU+YClbMF07CiAgICAgICAgICAgIHBvcHVwXzNhMmE3YTcxODIzNTRlZmJhZTNkNDdiN2U2OWQ0YTJhLnNldENvbnRlbnQoaV9mcmFtZV9hOTM0NjQzYmEwYTE0MjFkOGFjNTBmMDdhYTkzYzczOSk7CiAgICAgICAgCgogICAgICAgIGNpcmNsZV9tYXJrZXJfODlhYTJkNzE0MTYwNDZkNDhkY2VhZDAyM2RlNjYwYmEuYmluZFBvcHVwKHBvcHVwXzNhMmE3YTcxODIzNTRlZmJhZTNkNDdiN2U2OWQ0YTJhKQogICAgICAgIDsKCiAgICAgICAgCiAgICAKICAgIAogICAgICAgICAgICB2YXIgY2lyY2xlX21hcmtlcl83MGUzOGE4MjUwNWU0OTI4OTA3ZmVmMDRlYzM5YWVjMiA9IEwuY2lyY2xlTWFya2VyKAogICAgICAgICAgICAgICAgWzU2Ljc3OTI1NDgxNDI4MDU1LCA1NC4xNTMzODIxOTgzMzU0NV0sCiAgICAgICAgICAgICAgICB7ImJ1YmJsaW5nTW91c2VFdmVudHMiOiB0cnVlLCAiY29sb3IiOiAiIzBkMDg4NyIsICJkYXNoQXJyYXkiOiBudWxsLCAiZGFzaE9mZnNldCI6IG51bGwsICJmaWxsIjogdHJ1ZSwgImZpbGxDb2xvciI6ICIjMGQwODg3IiwgImZpbGxPcGFjaXR5IjogMC44LCAiZmlsbFJ1bGUiOiAiZXZlbm9kZCIsICJsaW5lQ2FwIjogInJvdW5kIiwgImxpbmVKb2luIjogInJvdW5kIiwgIm9wYWNpdHkiOiAxLjAsICJyYWRpdXMiOiAxMiwgInN0cm9rZSI6IHRydWUsICJ3ZWlnaHQiOiAzfQogICAgICAgICAgICApLmFkZFRvKG1hcF81OWE3M2VjYzY1NDM0N2EwOGUyNmE3YzcwNzE5MDc4Yik7CiAgICAgICAgCiAgICAKICAgICAgICB2YXIgcG9wdXBfODRlYjJhNThiODg4NGM1ZmFmNGYwMTQ2Mzk5MWY0ZjggPSBMLnBvcHVwKHsibWF4V2lkdGgiOiAiMTAwJSJ9KTsKCiAgICAgICAgCiAgICAgICAgICAgIHZhciBpX2ZyYW1lX2IxZjQ5YTRjZTQ1ZTQxYTdhOTYyZTAzMGVjYjIyNTM2ID0gJChgPGlmcmFtZSBzcmM9ImRhdGE6dGV4dC9odG1sO2NoYXJzZXQ9dXRmLTg7YmFzZTY0LENpQWdJQ0JPWVcxbE9pQk5kVzVwZEhOcGNHRnNKMjV2WlNCaGRuUnZibTl0Ym05bElHOWljMk5vWlc5aWNtRjZiM1poZEdWc0oyNXZaU0IxWTJoeVpYcG9aR1Z1YVdVZ1IybHRibUY2YVdwaElITWdkV2RzZFdKc1pXNXVlVzBnYVhwMVkyaGxibWxsYlNCcGJuTjBjbUZ1Ym5sb0lHcGhlbmxyYjNZOFluSStQR0p5UGtGa1pISmxjM002SURZeE56YzJNQ3dnVUdWeWJYTnJhV29nYTNKaGFpd2daeTRnUTJoaGFtdHZkbk5yYVdvc0lIVnNMaUJMWVdKaGJHVjJjMnR2WjI4c0lHUXVJRE15IiB3aWR0aD0iNDUwIiBzdHlsZT0iYm9yZGVyOm5vbmUgIWltcG9ydGFudDsiIGhlaWdodD0iMTMwIj48L2lmcmFtZT5gKVswXTsKICAgICAgICAgICAgcG9wdXBfODRlYjJhNThiODg4NGM1ZmFmNGYwMTQ2Mzk5MWY0Zjguc2V0Q29udGVudChpX2ZyYW1lX2IxZjQ5YTRjZTQ1ZTQxYTdhOTYyZTAzMGVjYjIyNTM2KTsKICAgICAgICAKCiAgICAgICAgY2lyY2xlX21hcmtlcl83MGUzOGE4MjUwNWU0OTI4OTA3ZmVmMDRlYzM5YWVjMi5iaW5kUG9wdXAocG9wdXBfODRlYjJhNThiODg4NGM1ZmFmNGYwMTQ2Mzk5MWY0ZjgpCiAgICAgICAgOwoKICAgICAgICAKICAgIAo8L3NjcmlwdD4= onload=\"this.contentDocument.open();this.contentDocument.write(atob(this.getAttribute('data-html')));this.contentDocument.close();\" allowfullscreen webkitallowfullscreen mozallowfullscreen></iframe></div></div>"
      ],
      "text/plain": [
       "<folium.folium.Map at 0x234b1af0e48>"
      ]
     },
     "execution_count": 10,
     "metadata": {},
     "output_type": "execute_result"
    }
   ],
   "source": [
    "map_folium"
   ]
  },
  {
   "cell_type": "code",
   "execution_count": null,
   "metadata": {},
   "outputs": [],
   "source": []
  }
 ],
 "metadata": {
  "kernelspec": {
   "display_name": "Python 3",
   "language": "python",
   "name": "python3"
  },
  "language_info": {
   "codemirror_mode": {
    "name": "ipython",
    "version": 3
   },
   "file_extension": ".py",
   "mimetype": "text/x-python",
   "name": "python",
   "nbconvert_exporter": "python",
   "pygments_lexer": "ipython3",
   "version": "3.7.6"
  }
 },
 "nbformat": 4,
 "nbformat_minor": 4
}
