{
 "cells": [
  {
   "cell_type": "markdown",
   "metadata": {
    "slideshow": {
     "slide_type": "slide"
    }
   },
   "source": [
    "<center><img src=\"images/header.png\"></center>\n",
    "\n",
    "<h1><center>Лекция №6: Введение в анализ социальных сетей</center></h1>\n",
    "<hr>\n",
    "<h1><center>Домашняя работа</center></h1>"
   ]
  },
  {
   "cell_type": "markdown",
   "metadata": {},
   "source": [
    "Данное ДЗ является довольно творческим и оно требует довольно много самостоятельной работы, так что не стоит с ним мешкать =)\n",
    "\n",
    "Вам предлагается выбрать сообщество (или сообщества) в сети ВКонтакте и проанализировать его (их) контингент. \n",
    "\n",
    "\n",
    "**Правила:**\n",
    "* Отчеты принимаются до **23:59 19 ноября**. Вы должны залить ваш ноутбук в github дать на него ссылку в следующей [форме](https://forms.gle/88d9CfaJN5gPV4bB8).\n",
    "* Работоспособность будет проверяться через [colab](https://colab.research.google.com) (можете сразу давать ссылку на него). Если ноутбук не будет исполняться (падать по ошибке) то все, что будет написано после ошибки не будет учитываться при формировании оценки. Для самопроверки, выполните аналог restart kernel and run all cells в colab\n",
    "* Вы должны включить код, с помощью которого вы общались с API вконтакте, но для экономии времени, заранее предусмотреть возможность загрузки уже собранных данных (например, как это было реализовано в ноутбуках по кластеризации через `wget` и dropbox или raw данными в github)\n",
    "\n",
    "**Пожелания:**\n",
    "* Выбирайте для анализа небольшие сообщества (до 5к), желательно чтобы вы сами в них состояли - это ускорит вычисления и упростит интерпретацию\n",
    "* Отнеситесь к этой работе как к исследованию - больше графиков и комментариев!\n",
    "* Красивые визуализации лучше делать через gephi!"
   ]
  },
  {
   "cell_type": "markdown",
   "metadata": {},
   "source": [
    "# Загрузка данных (2 балла)"
   ]
  },
  {
   "cell_type": "markdown",
   "metadata": {
    "slideshow": {
     "slide_type": "subslide"
    }
   },
   "source": [
    "Изучите следующие материалы\n",
    "* [Знакомство с API](https://vk.com/dev/first_guide)\n",
    "* [Туториал](https://nbviewer.jupyter.org/github/allatambov/Py-programming-3/blob/master/15-06/lect-vk-api.ipynb) по выгрузке данных с помощью VKAPI\n",
    "* Про метод execute - [туть](https://vk.com/dev/execute) и [туть](http://www.cyberforum.ru/python-web/thread1730446.html)\n",
    "\n",
    "Выберите сообщество и загрузите\n",
    "* Идентификаторы всех [участников сообщества](https://vk.com/dev/groups.getMembers)\n",
    "* [Списки друзей](https://vk.com/dev/friends.get) участников и их признаки (пол, возраст, университет и все, что посчитаете нужным - нам потом группировать по этим атрибутам)\n",
    "* [Пересечение](https://vk.com/dev/friends.getMutual) между списками друзей\n",
    "\n",
    "Таким образом вы должны получить замкнутую группу аккаунтов с их друзьями и связями между ними.\n",
    "\n",
    "Далее - соберите их этого граф в networkX и сохраните в graphml или gml формате\n",
    "\n",
    "**Замечания:**\n",
    "* Вконтакте может ограничить вам скорость запросов, поэтому иногда имеет смысл ставить небольшую паузу (`time.sleep(1)`) между запросами и сохранять предварительные результаты\n",
    "* Код выгрузки может быть написан как с помощью модуля `vk` так и просто с помощью requests\n",
    "* Некоторые пользователи могли сделать свой аккаунт приватным, что может вызвать ошибку в методе `getMutual`. Чтобы этого избежать придется проверять каждого на приватность с помощью `users.get` и аттрибута `is_closed`\n"
   ]
  },
  {
   "cell_type": "code",
   "execution_count": 1,
   "metadata": {},
   "outputs": [],
   "source": [
    "import pickle\n",
    "# import vk\n",
    "import time\n",
    "import networkx as nx\n",
    "import numpy as np"
   ]
  },
  {
   "cell_type": "code",
   "execution_count": 2,
   "metadata": {},
   "outputs": [],
   "source": [
    "### Здесь должен быть код загрузки из VK\n",
    "### Его можно закомментировать\n",
    "# import vk\n",
    "# token = 'e3aed9e8d77905d6b1ac6d02c1c21f0faf97b427d1dc1c3dac2fa28b242e77215f771532d8e7cf2b29cec'\n",
    "# session = vk.Session(access_token = token)\n",
    "# api = vk.API(session)\n",
    "# v = 5.89\n",
    "# import time\n",
    "# group = '59091174' \n",
    "\n",
    "# # Получаю количество участников\n",
    "# count = api.groups.getMembers(group_id=group, count=1, v = v)[\"count\"]\n",
    "\n",
    "# # Получаю id участников\n",
    "# offset = 0\n",
    "# ids = []\n",
    "\n",
    "# while(int(offset / 1000) < int(count / 1000)):\n",
    "#     ids += api.groups.getMembers(group_id=group, count=1000, offset=offset, v = v)[\"items\"]\n",
    "#     time.sleep(1)\n",
    "#     offset += 1000\n",
    "# ids += api.groups.getMembers(group_id=group, count=count - offset, offset=offset, v = v)[\"items\"]\n",
    "\n",
    "# # Получаю информацию о друзьях\n",
    "# friends = []\n",
    "# fields = [\"sex\", \"bdate\", \"city\", \"country\", \"home_town\", \"education\"]\n",
    "# for id in ids:\n",
    "#     print(\"current_id:\", id)\n",
    "#     user_data = api.users.get(user_ids=id, v=v)[0]\n",
    "#     time.sleep(0.34)\n",
    "#     if 'deactivated' in user_data or\\\n",
    "#        user_data[\"is_closed\"] == True and \\\n",
    "#        user_data[\"can_access_closed\"] == False:\n",
    "#             continue\n",
    "#     count = api.friends.get(user_id = id, v=v)[\"count\"]\n",
    "#     time.sleep(0.34)\n",
    "    \n",
    "#     # Загружаю максимум 2000 друзей\n",
    "#     current_friends = []\n",
    "#     current_friends += api.friends.get(user_id=id, count=2000, offset=offset, fields=fields, v=v)[\"items\"]\n",
    "#     time.sleep(0.34)\n",
    "#     friends.append(current_friends)\n",
    "    \n",
    "# import pickle\n",
    "# with open(\"ids\" + \".pkl\", \"wb\") as out:\n",
    "#         pickle.dump(ids, out, 2)\n",
    "# with open(\"friends\" + \".pkl\", \"wb\") as out:\n",
    "#         pickle.dump(friends, out, 2)"
   ]
  },
  {
   "cell_type": "code",
   "execution_count": 3,
   "metadata": {},
   "outputs": [],
   "source": [
    "### Здесь должен быть код преобразования в граф и сохранение в файл\n",
    "### Его тоже можно закомментировать\n",
    "# import networkx as nx\n",
    "# G = nx.Graph()\n",
    "# for member in ids:\n",
    "#     G.add_node(member)\n",
    "# friends_ids = []\n",
    "# for member_friends in friends:\n",
    "#     for friend in member_friends[:20]:\n",
    "#         G.add_node(friend[\"id\"])\n",
    "#         friends_ids.append(friend[\"id\"])\n",
    "# friends_ids = set(friends_ids) - set(ids)\n",
    "\n",
    "# j = 0\n",
    "# for i, id_ in enumerate(ids[:-1]):\n",
    "#     if \"deactivated\" in members[i] or\\\n",
    "#     members[i][\"is_closed\"] == True and \\\n",
    "#     members[i][\"can_access_closed\"] == False:\n",
    "#         continue\n",
    "#     for friend in friends[j][:20]:\n",
    "#         if id_ != friend[\"id\"]:\n",
    "#             G.add_edge(id_, friend[\"id\"])\n",
    "#     for friend in friends_ids:\n",
    "#         if friend in [mem[\"id\"] for mem in friends[j]]:\n",
    "#             if id_ != friend:\n",
    "#                 G.add_edge(id_, friend)\n",
    "#     j += 1\n",
    "# nx.write_graphml(G, \"g.graphml\")"
   ]
  },
  {
   "cell_type": "code",
   "execution_count": null,
   "metadata": {},
   "outputs": [],
   "source": [
    "### Здесь код, который загружает сохраненную сеть и все необходимые данные через wget\n",
    "!pip install wget\n",
    "import wget\n",
    "wget.download('https://yadi.sk/i/zajWVChIk_-T_A', \"degree.png\")\n",
    "wget.download('https://yadi.sk/i/4o0W5o7zJNP2Hw', \"closeness.png\")\n",
    "wget.download('https://yadi.sk/i/FCV-K3N4OwXmDA', \"betweenness.png\")\n",
    "wget.download('https://yadi.sk/d/fjCrlMDKQ5vrwg', \"g.graphml\")\n",
    "wget.download('https://yadi.sk/d/p6orN86gNRoFkA', \"ids.pkl\")\n",
    "wget.download('https://yadi.sk/d/OBk0nQhAGynxiQ', \"friends.pkl\")\n",
    "wget.download('https://yadi.sk/i/Db4gOJmb5Vqu5A', \"image2.png\")\n",
    "\n",
    "G = nx.read_graphml(\"g.graphml\")"
   ]
  },
  {
   "cell_type": "markdown",
   "metadata": {},
   "source": [
    "# Визуализация (1 балл)"
   ]
  },
  {
   "cell_type": "markdown",
   "metadata": {},
   "source": [
    "* Откройте полученный граф в gephi\n",
    "* Выберите наиболее удачный на ваш взгляд алгоритм прорисовки\n",
    "* Добавьте изменение размера вершины в зависимости от степени вершины\n",
    "* Вставьте скрин-шот ниже"
   ]
  },
  {
   "cell_type": "markdown",
   "metadata": {},
   "source": [
    "### Ваши картинки и комментарии ниже\n",
    "Граф для сообщества \"Клуб любителей истории КЛИо\". \n",
    "Размер каждой вершины в графе пропорционален степени этой вершины.\n",
    "На графе можно увидеть ярко выраженную крупную вершину. Ей соответствует профиль учителя истории, который создал и ведёт исследуемую группу, поэтому недивительно, что у этой вершины так много связей. Недалеко от самой крупной вершины можно заметить еще одну менее крупную, но все равно выделяющуюся вершину. Этой вершине соответствует профиль еще одного учителя, на этот раз по информатике. Взяв во внимание то, что среди участников сообщества много учеников школы, в которой преподает вышеупомянутый учитель, становится понятно откуда у вершины такое большое количество связей.\n",
    "<img src=\"image2.png\">"
   ]
  },
  {
   "cell_type": "markdown",
   "metadata": {},
   "source": [
    "# Центральности вершин (2 балла)"
   ]
  },
  {
   "cell_type": "markdown",
   "metadata": {},
   "source": [
    "Возможно, перед тем как пойти дальше, стоит немного почитстить граф - с помощью [kcore](https://www.google.com/search?client=firefox-b-d&q=networkx+kcore)\n",
    "\n",
    "* Найдите наиболее влиятельные вершины с точки зрения degree, closeness и betweenness centrality\n",
    "* Выделите их на картинке в gephi"
   ]
  },
  {
   "cell_type": "code",
   "execution_count": 5,
   "metadata": {},
   "outputs": [],
   "source": [
    "### Ваш код, картинки и комментарии ниже\n",
    "import pandas as pd\n",
    "G_2 = nx.algorithms.core.k_core(G)\n",
    "nx.write_graphml(G_2, \"g_2.graphml\")\n",
    "list_G_btw = list(nx.centrality.betweenness_centrality(G_2).items())\n",
    "list_G_cls = list(nx.centrality.closeness_centrality(G_2).items())\n",
    "list_G_degree = list(nx.centrality.degree_centrality(G_2).items())"
   ]
  },
  {
   "cell_type": "code",
   "execution_count": 6,
   "metadata": {},
   "outputs": [],
   "source": [
    "df = pd.DataFrame(columns=[\"Id\", \"Label\", \"betweenness\", \"degree\", \"closeness\"])\n",
    "df.Id = G_2.nodes()\n",
    "df.Label = G_2.nodes()\n",
    "df.betweenness = [i[1] for i in list_G_btw]\n",
    "df.closeness = [i[1] for i in list_G_cls]\n",
    "df.degree = [i[1] for i in list_G_degree]\n",
    "df.to_csv(\"centrality.csv\", index=False)"
   ]
  },
  {
   "cell_type": "markdown",
   "metadata": {},
   "source": [
    "### Degree centrality\n",
    "<img src=\"degree.png\">"
   ]
  },
  {
   "cell_type": "markdown",
   "metadata": {},
   "source": [
    "### Closeness centrality\n",
    "<img src=\"closeness.png\">"
   ]
  },
  {
   "cell_type": "markdown",
   "metadata": {},
   "source": [
    "### Betweeness centrality\n",
    "<img src=\"betweeness.png\">"
   ]
  },
  {
   "cell_type": "markdown",
   "metadata": {},
   "source": [
    "Наиболее влиятельные вершины с точки зрения центральности незначительно меняются в зависимости от вида центральности, однако основные вершины остаются во всех трёх случаях теми же самыми"
   ]
  },
  {
   "cell_type": "markdown",
   "metadata": {},
   "source": [
    "# Сообщества... в сообществе (2 балла)\n",
    "\n",
    "В этом задании надо примерить 2 алгоритма выявления сообществ и сравнить их результаты\n",
    "\n",
    "Выберите алгоритм выделения сообществ на графах, например\n",
    "* label propagation или \n",
    "* алгоритм на основе edge betweeness\n",
    "\n",
    "и алгоритм на основе похожести вершин, например \n",
    "* расчитатайте попарную похожесть по jaccard, косинусному расстоянию или корреляцию\n",
    "* при необходимости переведите \"похожесть\" в \"расстояние\" (чем больше значение тем \"дальше\" объекты друг от друга)\n",
    "* подайте матрицу попарных расстояний в алгоритм кластеризации, например в DBSCAN\n",
    "\n",
    "Для обоих вариантов\n",
    "* Выделите сообщества, опираясь на максимальное значение модулярности для полученного разбиения\n",
    "* Изобразите граф с вершинами, раскрашенными в цвет своего сообщества в gephi\n",
    "* Попробуйте проинтерпретировать полученные сообщества, кто эти люди, почему они связаны?\n",
    "* Какой метод на ваш взгляд сработал лучше?"
   ]
  },
  {
   "cell_type": "code",
   "execution_count": 7,
   "metadata": {},
   "outputs": [],
   "source": [
    "### Ваш код, картинки и комментарии ниже"
   ]
  }
 ],
 "metadata": {
  "anaconda-cloud": {},
  "kernelspec": {
   "display_name": "Python 3",
   "language": "python",
   "name": "python3"
  },
  "language_info": {
   "codemirror_mode": {
    "name": "ipython",
    "version": 3
   },
   "file_extension": ".py",
   "mimetype": "text/x-python",
   "name": "python",
   "nbconvert_exporter": "python",
   "pygments_lexer": "ipython3",
   "version": "3.7.6"
  },
  "nav_menu": {},
  "toc": {
   "base_numbering": 1,
   "nav_menu": {
    "height": "347px",
    "width": "253px"
   },
   "number_sections": false,
   "sideBar": true,
   "skip_h1_title": false,
   "title_cell": "Table of Contents",
   "title_sidebar": "Contents",
   "toc_cell": false,
   "toc_position": {
    "height": "100px",
    "left": "46px",
    "right": "398.5px",
    "top": "111.133px",
    "width": "165px"
   },
   "toc_section_display": true,
   "toc_window_display": true
  },
  "toc_position": {
   "height": "40px",
   "left": "816px",
   "right": "38.6667px",
   "top": "0px",
   "width": "212px"
  }
 },
 "nbformat": 4,
 "nbformat_minor": 1
}
