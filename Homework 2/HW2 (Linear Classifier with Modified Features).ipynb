{
 "cells": [
  {
   "cell_type": "code",
   "execution_count": 1,
   "metadata": {},
   "outputs": [],
   "source": [
    "import numpy as np\n",
    "import pandas as pd"
   ]
  },
  {
   "cell_type": "code",
   "execution_count": 2,
   "metadata": {},
   "outputs": [],
   "source": [
    "train_df = pd.read_csv(\"data/train.csv\")\n",
    "test_df = pd.read_csv(\"data/test.csv\")"
   ]
  },
  {
   "cell_type": "code",
   "execution_count": 3,
   "metadata": {},
   "outputs": [],
   "source": [
    "# y_train_porn = train_df[train_df.target == True].target\n",
    "# y_train_regular = train_df[train_df.target == False].target\n",
    "# y_train = y_train_porn.append(y_train_regular)\n",
    "# X_train_porn = train_df[train_df.target == True].drop(columns=[\"target\"])\n",
    "# X_train_regular = train_df[train_df.target == False].drop(columns=[\"target\"])\n",
    "y_train = train_df.target\n",
    "X_train = train_df.drop(columns=[\"target\"])"
   ]
  },
  {
   "cell_type": "code",
   "execution_count": 4,
   "metadata": {},
   "outputs": [],
   "source": [
    "import re\n",
    "def remove_digits(DF):\n",
    "    for i in DF.index:\n",
    "        DF[i] = re.sub(r\"\\d+\", \"\", DF[i], flags=re.UNICODE)"
   ]
  },
  {
   "cell_type": "code",
   "execution_count": 5,
   "metadata": {},
   "outputs": [],
   "source": [
    "# X_train_porn = X_train_porn[['url', 'title']].apply(lambda x:x[0] + \" \" + x[1], axis=1)\n",
    "# X_train_regular = X_train_regular[['url', 'title']].apply(lambda x:x[0] + \" \" + x[1], axis=1)\n",
    "X_train = X_train[['url', 'title']].apply(lambda x:x[0] + \" \" + x[1], axis=1)"
   ]
  },
  {
   "cell_type": "code",
   "execution_count": 6,
   "metadata": {},
   "outputs": [],
   "source": [
    "# remove_digits(X_train_porn)\n",
    "# remove_digits(X_train_regular)\n",
    "remove_digits(X_train)"
   ]
  },
  {
   "cell_type": "code",
   "execution_count": 7,
   "metadata": {},
   "outputs": [
    {
     "data": {
      "text/html": [
       "<div>\n",
       "<style scoped>\n",
       "    .dataframe tbody tr th:only-of-type {\n",
       "        vertical-align: middle;\n",
       "    }\n",
       "\n",
       "    .dataframe tbody tr th {\n",
       "        vertical-align: top;\n",
       "    }\n",
       "\n",
       "    .dataframe thead th {\n",
       "        text-align: right;\n",
       "    }\n",
       "</style>\n",
       "<table border=\"1\" class=\"dataframe\">\n",
       "  <thead>\n",
       "    <tr style=\"text-align: right;\">\n",
       "      <th></th>\n",
       "      <th>id</th>\n",
       "      <th>url</th>\n",
       "      <th>title</th>\n",
       "    </tr>\n",
       "  </thead>\n",
       "  <tbody>\n",
       "    <tr>\n",
       "      <th>0</th>\n",
       "      <td>135309</td>\n",
       "      <td>www.kommersant.ru</td>\n",
       "      <td>Шестой кассационный суд в Самаре начнет работу...</td>\n",
       "    </tr>\n",
       "    <tr>\n",
       "      <th>1</th>\n",
       "      <td>135310</td>\n",
       "      <td>urexpert.online</td>\n",
       "      <td>Что такое индексация алиментов, кем и в каких ...</td>\n",
       "    </tr>\n",
       "    <tr>\n",
       "      <th>2</th>\n",
       "      <td>135311</td>\n",
       "      <td>imperimeha.ru</td>\n",
       "      <td>Женщинам | Империя Меха - Part 12</td>\n",
       "    </tr>\n",
       "    <tr>\n",
       "      <th>3</th>\n",
       "      <td>135312</td>\n",
       "      <td>national-porn.com</td>\n",
       "      <td>Небритые, волосатые киски: Порно всех стран и ...</td>\n",
       "    </tr>\n",
       "    <tr>\n",
       "      <th>4</th>\n",
       "      <td>135313</td>\n",
       "      <td>2gis.ru</td>\n",
       "      <td>67</td>\n",
       "    </tr>\n",
       "    <tr>\n",
       "      <th>5</th>\n",
       "      <td>135314</td>\n",
       "      <td>ryazan.gorodrabot.ru</td>\n",
       "      <td>Вакансия Мерчендайзер визитный в Рязани, Групп...</td>\n",
       "    </tr>\n",
       "    <tr>\n",
       "      <th>6</th>\n",
       "      <td>135315</td>\n",
       "      <td>m.fotosklad.ru</td>\n",
       "      <td>Смартфон Apple iPhone XR 64GB Черный A2105 EU ...</td>\n",
       "    </tr>\n",
       "    <tr>\n",
       "      <th>7</th>\n",
       "      <td>135316</td>\n",
       "      <td>sim-dealer.ru</td>\n",
       "      <td>Духовой шкаф Siemens HB337GYS0R - Sim-Dealer. ...</td>\n",
       "    </tr>\n",
       "    <tr>\n",
       "      <th>8</th>\n",
       "      <td>135317</td>\n",
       "      <td>krasnoyarsk.hh.ru</td>\n",
       "      <td>Вакансия Аналитик Департамента внедрения инфор...</td>\n",
       "    </tr>\n",
       "    <tr>\n",
       "      <th>9</th>\n",
       "      <td>135318</td>\n",
       "      <td>vsetop.org</td>\n",
       "      <td>Anomaly Defenders v1.0 – торрент</td>\n",
       "    </tr>\n",
       "  </tbody>\n",
       "</table>\n",
       "</div>"
      ],
      "text/plain": [
       "       id                   url  \\\n",
       "0  135309     www.kommersant.ru   \n",
       "1  135310       urexpert.online   \n",
       "2  135311         imperimeha.ru   \n",
       "3  135312     national-porn.com   \n",
       "4  135313               2gis.ru   \n",
       "5  135314  ryazan.gorodrabot.ru   \n",
       "6  135315        m.fotosklad.ru   \n",
       "7  135316         sim-dealer.ru   \n",
       "8  135317     krasnoyarsk.hh.ru   \n",
       "9  135318            vsetop.org   \n",
       "\n",
       "                                               title  \n",
       "0  Шестой кассационный суд в Самаре начнет работу...  \n",
       "1  Что такое индексация алиментов, кем и в каких ...  \n",
       "2                  Женщинам | Империя Меха - Part 12  \n",
       "3  Небритые, волосатые киски: Порно всех стран и ...  \n",
       "4                                                 67  \n",
       "5  Вакансия Мерчендайзер визитный в Рязани, Групп...  \n",
       "6  Смартфон Apple iPhone XR 64GB Черный A2105 EU ...  \n",
       "7  Духовой шкаф Siemens HB337GYS0R - Sim-Dealer. ...  \n",
       "8  Вакансия Аналитик Департамента внедрения инфор...  \n",
       "9                   Anomaly Defenders v1.0 – торрент  "
      ]
     },
     "execution_count": 7,
     "metadata": {},
     "output_type": "execute_result"
    }
   ],
   "source": [
    "test_df.head(10)"
   ]
  },
  {
   "cell_type": "code",
   "execution_count": 8,
   "metadata": {},
   "outputs": [],
   "source": [
    "from nltk.corpus import stopwords\n",
    "stop_words = set(stopwords.words('english') + stopwords.words('russian') + ['ru', 'com', 'net'])"
   ]
  },
  {
   "cell_type": "code",
   "execution_count": 9,
   "metadata": {},
   "outputs": [],
   "source": [
    "from sklearn.feature_extraction.text import CountVectorizer\n",
    "vectorizer = CountVectorizer(stop_words=stop_words)"
   ]
  },
  {
   "cell_type": "code",
   "execution_count": 10,
   "metadata": {},
   "outputs": [],
   "source": [
    "X_train_vectorized = vectorizer.fit_transform(X_train) "
   ]
  },
  {
   "cell_type": "code",
   "execution_count": 11,
   "metadata": {},
   "outputs": [
    {
     "name": "stdout",
     "output_type": "stream",
     "text": [
      "71141     False\n",
      "4773      False\n",
      "16465      True\n",
      "19126      True\n",
      "36547     False\n",
      "          ...  \n",
      "73349     False\n",
      "109259    False\n",
      "50057     False\n",
      "5192      False\n",
      "128037    False\n",
      "Name: target, Length: 101481, dtype: bool\n"
     ]
    }
   ],
   "source": [
    "from sklearn.model_selection import train_test_split\n",
    "Data_train, Data_test, Ans_train, Ans_test = train_test_split(X_train_vectorized, y_train, test_size=0.25, random_state=1, shuffle=True)\n",
    "print(Ans_train)"
   ]
  },
  {
   "cell_type": "code",
   "execution_count": 34,
   "metadata": {},
   "outputs": [
    {
     "data": {
      "text/plain": [
       "LogisticRegression(C=1.0, class_weight='balanced', dual=False,\n",
       "                   fit_intercept=True, intercept_scaling=1, l1_ratio=None,\n",
       "                   max_iter=100, multi_class='auto', n_jobs=None, penalty='l2',\n",
       "                   random_state=None, solver='lbfgs', tol=0.0001, verbose=0,\n",
       "                   warm_start=False)"
      ]
     },
     "execution_count": 34,
     "metadata": {},
     "output_type": "execute_result"
    }
   ],
   "source": [
    "from sklearn.linear_model import LogisticRegression\n",
    "linear_model = LogisticRegression(class_weight='balanced')\n",
    "linear_model.fit(Data_train, Ans_train)"
   ]
  },
  {
   "cell_type": "code",
   "execution_count": 35,
   "metadata": {
    "scrolled": true
   },
   "outputs": [
    {
     "name": "stdout",
     "output_type": "stream",
     "text": [
      "Accuracy: 0.9932008986638288\n",
      "F1 score: 0.9726711026615971\n"
     ]
    }
   ],
   "source": [
    "from sklearn.metrics import accuracy_score, f1_score\n",
    "y_pred = linear_model.predict(Data_test)\n",
    "print(\"Accuracy:\", accuracy_score(y_pred, Ans_test))\n",
    "print(\"F1 score:\", f1_score(y_pred, Ans_test))"
   ]
  },
  {
   "cell_type": "code",
   "execution_count": 29,
   "metadata": {},
   "outputs": [],
   "source": [
    "# linear_model = SGDClassifier(loss='modified_huber', class_weight=\"balanced\", n_iter_no_change=10, verbose=2)\n",
    "# linear_model.fit(X_train_vectorized, y_train)\n",
    "# X_test = test_df.drop(columns=[])\n",
    "# X_test = X_test[['url', 'title']].apply(lambda x:x[0] + \" \" + x[1], axis=1)\n",
    "# remove_digits(X_test)\n",
    "# X_test_vectorized = vectorizer.transform(X_test)"
   ]
  },
  {
   "cell_type": "code",
   "execution_count": 14,
   "metadata": {},
   "outputs": [],
   "source": [
    "test_df[\"target\"] = linear_model.predict(X_test_vectorized).astype(bool)\n",
    "test_df[[\"id\", \"target\"]].to_csv(\"SmirnovLC.csv\", index=False)"
   ]
  },
  {
   "cell_type": "code",
   "execution_count": null,
   "metadata": {},
   "outputs": [],
   "source": []
  },
  {
   "cell_type": "code",
   "execution_count": null,
   "metadata": {},
   "outputs": [],
   "source": []
  }
 ],
 "metadata": {
  "kernelspec": {
   "display_name": "Python 3",
   "language": "python",
   "name": "python3"
  },
  "language_info": {
   "codemirror_mode": {
    "name": "ipython",
    "version": 3
   },
   "file_extension": ".py",
   "mimetype": "text/x-python",
   "name": "python",
   "nbconvert_exporter": "python",
   "pygments_lexer": "ipython3",
   "version": "3.7.6"
  }
 },
 "nbformat": 4,
 "nbformat_minor": 4
}
