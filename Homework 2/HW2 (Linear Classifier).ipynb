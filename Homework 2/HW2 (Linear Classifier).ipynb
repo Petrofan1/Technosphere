{
 "cells": [
  {
   "cell_type": "code",
   "execution_count": 1,
   "metadata": {},
   "outputs": [],
   "source": [
    "import numpy as np\n",
    "import pandas as pd"
   ]
  },
  {
   "cell_type": "code",
   "execution_count": 2,
   "metadata": {},
   "outputs": [],
   "source": [
    "train_df = pd.read_csv(\"data/train.csv\")\n",
    "test_df = pd.read_csv(\"data/test.csv\")"
   ]
  },
  {
   "cell_type": "code",
   "execution_count": 3,
   "metadata": {},
   "outputs": [],
   "source": [
    "y_train = train_df.target\n",
    "X_train = train_df.drop(columns=[\"target\"])"
   ]
  },
  {
   "cell_type": "code",
   "execution_count": 4,
   "metadata": {},
   "outputs": [],
   "source": [
    "import re\n",
    "def remove_digits(DF):\n",
    "    for i in np.arange(len(DF)):\n",
    "        DF[i] = re.sub(r\"\\d+\", \"\", DF[i], flags=re.UNICODE)"
   ]
  },
  {
   "cell_type": "code",
   "execution_count": 5,
   "metadata": {},
   "outputs": [],
   "source": [
    "X_train = X_train[['url', 'title']].apply(lambda x:x[0] + \" \" + x[1], axis=1)\n",
    "remove_digits(X_train)"
   ]
  },
  {
   "cell_type": "code",
   "execution_count": 6,
   "metadata": {},
   "outputs": [
    {
     "data": {
      "text/html": [
       "<div>\n",
       "<style scoped>\n",
       "    .dataframe tbody tr th:only-of-type {\n",
       "        vertical-align: middle;\n",
       "    }\n",
       "\n",
       "    .dataframe tbody tr th {\n",
       "        vertical-align: top;\n",
       "    }\n",
       "\n",
       "    .dataframe thead th {\n",
       "        text-align: right;\n",
       "    }\n",
       "</style>\n",
       "<table border=\"1\" class=\"dataframe\">\n",
       "  <thead>\n",
       "    <tr style=\"text-align: right;\">\n",
       "      <th></th>\n",
       "      <th>id</th>\n",
       "      <th>url</th>\n",
       "      <th>title</th>\n",
       "    </tr>\n",
       "  </thead>\n",
       "  <tbody>\n",
       "    <tr>\n",
       "      <th>0</th>\n",
       "      <td>135309</td>\n",
       "      <td>www.kommersant.ru</td>\n",
       "      <td>Шестой кассационный суд в Самаре начнет работу...</td>\n",
       "    </tr>\n",
       "    <tr>\n",
       "      <th>1</th>\n",
       "      <td>135310</td>\n",
       "      <td>urexpert.online</td>\n",
       "      <td>Что такое индексация алиментов, кем и в каких ...</td>\n",
       "    </tr>\n",
       "    <tr>\n",
       "      <th>2</th>\n",
       "      <td>135311</td>\n",
       "      <td>imperimeha.ru</td>\n",
       "      <td>Женщинам | Империя Меха - Part 12</td>\n",
       "    </tr>\n",
       "    <tr>\n",
       "      <th>3</th>\n",
       "      <td>135312</td>\n",
       "      <td>national-porn.com</td>\n",
       "      <td>Небритые, волосатые киски: Порно всех стран и ...</td>\n",
       "    </tr>\n",
       "    <tr>\n",
       "      <th>4</th>\n",
       "      <td>135313</td>\n",
       "      <td>2gis.ru</td>\n",
       "      <td>67</td>\n",
       "    </tr>\n",
       "    <tr>\n",
       "      <th>5</th>\n",
       "      <td>135314</td>\n",
       "      <td>ryazan.gorodrabot.ru</td>\n",
       "      <td>Вакансия Мерчендайзер визитный в Рязани, Групп...</td>\n",
       "    </tr>\n",
       "    <tr>\n",
       "      <th>6</th>\n",
       "      <td>135315</td>\n",
       "      <td>m.fotosklad.ru</td>\n",
       "      <td>Смартфон Apple iPhone XR 64GB Черный A2105 EU ...</td>\n",
       "    </tr>\n",
       "    <tr>\n",
       "      <th>7</th>\n",
       "      <td>135316</td>\n",
       "      <td>sim-dealer.ru</td>\n",
       "      <td>Духовой шкаф Siemens HB337GYS0R - Sim-Dealer. ...</td>\n",
       "    </tr>\n",
       "    <tr>\n",
       "      <th>8</th>\n",
       "      <td>135317</td>\n",
       "      <td>krasnoyarsk.hh.ru</td>\n",
       "      <td>Вакансия Аналитик Департамента внедрения инфор...</td>\n",
       "    </tr>\n",
       "    <tr>\n",
       "      <th>9</th>\n",
       "      <td>135318</td>\n",
       "      <td>vsetop.org</td>\n",
       "      <td>Anomaly Defenders v1.0 – торрент</td>\n",
       "    </tr>\n",
       "  </tbody>\n",
       "</table>\n",
       "</div>"
      ],
      "text/plain": [
       "       id                   url  \\\n",
       "0  135309     www.kommersant.ru   \n",
       "1  135310       urexpert.online   \n",
       "2  135311         imperimeha.ru   \n",
       "3  135312     national-porn.com   \n",
       "4  135313               2gis.ru   \n",
       "5  135314  ryazan.gorodrabot.ru   \n",
       "6  135315        m.fotosklad.ru   \n",
       "7  135316         sim-dealer.ru   \n",
       "8  135317     krasnoyarsk.hh.ru   \n",
       "9  135318            vsetop.org   \n",
       "\n",
       "                                               title  \n",
       "0  Шестой кассационный суд в Самаре начнет работу...  \n",
       "1  Что такое индексация алиментов, кем и в каких ...  \n",
       "2                  Женщинам | Империя Меха - Part 12  \n",
       "3  Небритые, волосатые киски: Порно всех стран и ...  \n",
       "4                                                 67  \n",
       "5  Вакансия Мерчендайзер визитный в Рязани, Групп...  \n",
       "6  Смартфон Apple iPhone XR 64GB Черный A2105 EU ...  \n",
       "7  Духовой шкаф Siemens HB337GYS0R - Sim-Dealer. ...  \n",
       "8  Вакансия Аналитик Департамента внедрения инфор...  \n",
       "9                   Anomaly Defenders v1.0 – торрент  "
      ]
     },
     "execution_count": 6,
     "metadata": {},
     "output_type": "execute_result"
    }
   ],
   "source": [
    "test_df.head(10)"
   ]
  },
  {
   "cell_type": "code",
   "execution_count": 7,
   "metadata": {},
   "outputs": [],
   "source": [
    "from nltk.corpus import stopwords\n",
    "stop_words = set(stopwords.words('english') + stopwords.words('russian') + ['ru', 'com', 'net'])"
   ]
  },
  {
   "cell_type": "code",
   "execution_count": 8,
   "metadata": {},
   "outputs": [],
   "source": [
    "from sklearn.feature_extraction.text import CountVectorizer\n",
    "vectorizer = CountVectorizer(stop_words=stop_words)"
   ]
  },
  {
   "cell_type": "code",
   "execution_count": 9,
   "metadata": {},
   "outputs": [],
   "source": [
    "X_train_vectorized = vectorizer.fit_transform(X_train)"
   ]
  },
  {
   "cell_type": "code",
   "execution_count": 10,
   "metadata": {},
   "outputs": [
    {
     "name": "stdout",
     "output_type": "stream",
     "text": [
      "71141     False\n",
      "4773      False\n",
      "16465      True\n",
      "19126      True\n",
      "36547     False\n",
      "          ...  \n",
      "73349     False\n",
      "109259    False\n",
      "50057     False\n",
      "5192      False\n",
      "128037    False\n",
      "Name: target, Length: 101481, dtype: bool\n"
     ]
    }
   ],
   "source": [
    "from sklearn.model_selection import train_test_split\n",
    "Data_train, Data_test, Ans_train, Ans_test = train_test_split(X_train_vectorized, y_train, test_size=0.25, random_state=1, shuffle=True)\n",
    "print(Ans_train)"
   ]
  },
  {
   "cell_type": "code",
   "execution_count": 75,
   "metadata": {},
   "outputs": [
    {
     "name": "stdout",
     "output_type": "stream",
     "text": [
      "  (0, 47175)\t1\n",
      "  (0, 47825)\t2\n",
      "  (0, 56220)\t1\n",
      "  (0, 70143)\t1\n",
      "  (0, 75377)\t1\n",
      "  (0, 106453)\t1\n",
      "  (0, 115287)\t1\n",
      "  (0, 115742)\t1\n",
      "  (0, 117715)\t1\n",
      "  (0, 117977)\t1\n",
      "  (0, 132418)\t1\n",
      "  (0, 137817)\t1\n",
      "  (0, 153886)\t1\n",
      "  (1, 386)\t1\n",
      "  (1, 53222)\t1\n",
      "  (1, 82008)\t1\n",
      "  (1, 84922)\t1\n",
      "  (1, 97317)\t1\n",
      "  (1, 105737)\t1\n",
      "  (1, 129908)\t1\n",
      "  (1, 144726)\t1\n",
      "  (1, 147177)\t1\n",
      "  (1, 149517)\t1\n",
      "  (1, 149641)\t1\n",
      "  (1, 157022)\t1\n",
      "  :\t:\n",
      "  (101477, 25447)\t1\n",
      "  (101477, 28567)\t1\n",
      "  (101477, 37088)\t1\n",
      "  (101477, 72239)\t2\n",
      "  (101477, 74850)\t1\n",
      "  (101478, 76404)\t1\n",
      "  (101478, 128010)\t1\n",
      "  (101478, 138418)\t1\n",
      "  (101478, 177434)\t1\n",
      "  (101479, 3498)\t1\n",
      "  (101479, 3588)\t2\n",
      "  (101479, 140439)\t1\n",
      "  (101479, 159153)\t1\n",
      "  (101479, 164336)\t1\n",
      "  (101479, 184885)\t1\n",
      "  (101480, 39074)\t2\n",
      "  (101480, 85293)\t1\n",
      "  (101480, 97602)\t1\n",
      "  (101480, 113656)\t1\n",
      "  (101480, 129643)\t1\n",
      "  (101480, 132679)\t1\n",
      "  (101480, 137486)\t1\n",
      "  (101480, 160647)\t1\n",
      "  (101480, 160694)\t1\n",
      "  (101480, 164350)\t1\n",
      "-- Epoch 1\n",
      "Norm: 91.75, NNZs: 23217, Bias: -1.272509, T: 101481, Avg. loss: 1.408338\n",
      "Total training time: 0.06 seconds.\n",
      "-- Epoch 2\n",
      "Norm: 50.70, NNZs: 31284, Bias: -1.138913, T: 202962, Avg. loss: 0.037824\n",
      "Total training time: 0.10 seconds.\n",
      "-- Epoch 3\n",
      "Norm: 36.00, NNZs: 37133, Bias: -0.944427, T: 304443, Avg. loss: 0.011287\n",
      "Total training time: 0.16 seconds.\n",
      "-- Epoch 4\n",
      "Norm: 29.24, NNZs: 47349, Bias: -0.864590, T: 405924, Avg. loss: 0.007594\n",
      "Total training time: 0.20 seconds.\n",
      "-- Epoch 5\n",
      "Norm: 25.74, NNZs: 56269, Bias: -0.825325, T: 507405, Avg. loss: 0.008194\n",
      "Total training time: 0.25 seconds.\n",
      "-- Epoch 6\n",
      "Norm: 23.83, NNZs: 62493, Bias: -0.808514, T: 608886, Avg. loss: 0.008012\n",
      "Total training time: 0.31 seconds.\n",
      "-- Epoch 7\n",
      "Norm: 22.75, NNZs: 66422, Bias: -0.795634, T: 710367, Avg. loss: 0.008102\n",
      "Total training time: 0.35 seconds.\n",
      "-- Epoch 8\n",
      "Norm: 22.05, NNZs: 69592, Bias: -0.790437, T: 811848, Avg. loss: 0.008305\n",
      "Total training time: 0.40 seconds.\n",
      "-- Epoch 9\n",
      "Norm: 21.57, NNZs: 71607, Bias: -0.787731, T: 913329, Avg. loss: 0.008239\n",
      "Total training time: 0.46 seconds.\n",
      "-- Epoch 10\n",
      "Norm: 21.26, NNZs: 73200, Bias: -0.783723, T: 1014810, Avg. loss: 0.008234\n",
      "Total training time: 0.51 seconds.\n",
      "-- Epoch 11\n",
      "Norm: 21.02, NNZs: 74504, Bias: -0.785169, T: 1116291, Avg. loss: 0.008211\n",
      "Total training time: 0.57 seconds.\n",
      "-- Epoch 12\n",
      "Norm: 20.85, NNZs: 75476, Bias: -0.783751, T: 1217772, Avg. loss: 0.008223\n",
      "Total training time: 0.63 seconds.\n",
      "-- Epoch 13\n",
      "Norm: 20.70, NNZs: 76178, Bias: -0.781939, T: 1319253, Avg. loss: 0.008180\n",
      "Total training time: 0.69 seconds.\n",
      "-- Epoch 14\n",
      "Norm: 20.61, NNZs: 76784, Bias: -0.779653, T: 1420734, Avg. loss: 0.008134\n",
      "Total training time: 0.73 seconds.\n",
      "Convergence after 14 epochs took 0.73 seconds\n"
     ]
    },
    {
     "data": {
      "text/plain": [
       "SGDClassifier(alpha=0.0001, average=False, class_weight='balanced',\n",
       "              early_stopping=False, epsilon=0.1, eta0=0.0, fit_intercept=True,\n",
       "              l1_ratio=0.15, learning_rate='optimal', loss='modified_huber',\n",
       "              max_iter=1000, n_iter_no_change=10, n_jobs=None, penalty='l2',\n",
       "              power_t=0.5, random_state=None, shuffle=True, tol=0.001,\n",
       "              validation_fraction=0.1, verbose=2, warm_start=False)"
      ]
     },
     "execution_count": 75,
     "metadata": {},
     "output_type": "execute_result"
    }
   ],
   "source": [
    "print(Data_train)\n",
    "from sklearn.linear_model import SGDClassifier\n",
    "linear_model = SGDClassifier(loss='modified_huber', class_weight=\"balanced\", n_iter_no_change=10, verbose=2)\n",
    "linear_model.fit(Data_train, Ans_train)"
   ]
  },
  {
   "cell_type": "code",
   "execution_count": 74,
   "metadata": {
    "scrolled": true
   },
   "outputs": [
    {
     "name": "stdout",
     "output_type": "stream",
     "text": [
      "0.9769814902705267\n"
     ]
    }
   ],
   "source": [
    "from sklearn.metrics import f1_score\n",
    "y_pred = linear_model.predict(Data_test)\n",
    "print(f1_score(y_pred, Ans_test))"
   ]
  },
  {
   "cell_type": "code",
   "execution_count": 135,
   "metadata": {},
   "outputs": [],
   "source": [
    "X_test = test_df.drop(columns=[])\n",
    "X_test = X_test[['url', 'title']].apply(lambda x:x[0] + \" \" + x[1], axis=1)\n",
    "remove_digits(X_test)\n",
    "X_test_vectorized = vectorizer.transform(X_test)"
   ]
  },
  {
   "cell_type": "code",
   "execution_count": 136,
   "metadata": {},
   "outputs": [],
   "source": [
    "test_df[\"target\"] = linear_model.predict(X_test_vectorized).astype(bool)\n",
    "test_df[[\"id\", \"target\"]].to_csv(\"Smirnov03.csv\", index=False)"
   ]
  }
 ],
 "metadata": {
  "kernelspec": {
   "display_name": "Python 3",
   "language": "python",
   "name": "python3"
  },
  "language_info": {
   "codemirror_mode": {
    "name": "ipython",
    "version": 3
   },
   "file_extension": ".py",
   "mimetype": "text/x-python",
   "name": "python",
   "nbconvert_exporter": "python",
   "pygments_lexer": "ipython3",
   "version": "3.7.6"
  }
 },
 "nbformat": 4,
 "nbformat_minor": 4
}
