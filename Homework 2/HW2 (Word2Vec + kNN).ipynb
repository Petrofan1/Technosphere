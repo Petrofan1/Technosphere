{
 "cells": [
  {
   "cell_type": "code",
   "execution_count": 1,
   "metadata": {},
   "outputs": [],
   "source": [
    "import numpy as np\n",
    "import pandas as pd"
   ]
  },
  {
   "cell_type": "code",
   "execution_count": 2,
   "metadata": {},
   "outputs": [],
   "source": [
    "train_df = pd.read_csv(\"data/train.csv\")\n",
    "test_df = pd.read_csv(\"data/test.csv\")"
   ]
  },
  {
   "cell_type": "code",
   "execution_count": 3,
   "metadata": {},
   "outputs": [],
   "source": [
    "y_train = train_df.target\n",
    "X_train = train_df.drop(columns=[\"target\"])"
   ]
  },
  {
   "cell_type": "code",
   "execution_count": 4,
   "metadata": {},
   "outputs": [],
   "source": [
    "import re\n",
    "def remove_digits(DF):\n",
    "    for i in np.arange(len(DF)):\n",
    "        DF[i] = re.sub(r\"\\d+\", \"\", DF[i], flags=re.UNICODE)"
   ]
  },
  {
   "cell_type": "code",
   "execution_count": 5,
   "metadata": {},
   "outputs": [],
   "source": [
    "X_train = X_train.title\n",
    "remove_digits(X_train)"
   ]
  },
  {
   "cell_type": "code",
   "execution_count": 6,
   "metadata": {},
   "outputs": [
    {
     "data": {
      "text/html": [
       "<div>\n",
       "<style scoped>\n",
       "    .dataframe tbody tr th:only-of-type {\n",
       "        vertical-align: middle;\n",
       "    }\n",
       "\n",
       "    .dataframe tbody tr th {\n",
       "        vertical-align: top;\n",
       "    }\n",
       "\n",
       "    .dataframe thead th {\n",
       "        text-align: right;\n",
       "    }\n",
       "</style>\n",
       "<table border=\"1\" class=\"dataframe\">\n",
       "  <thead>\n",
       "    <tr style=\"text-align: right;\">\n",
       "      <th></th>\n",
       "      <th>id</th>\n",
       "      <th>url</th>\n",
       "      <th>title</th>\n",
       "    </tr>\n",
       "  </thead>\n",
       "  <tbody>\n",
       "    <tr>\n",
       "      <th>0</th>\n",
       "      <td>135309</td>\n",
       "      <td>www.kommersant.ru</td>\n",
       "      <td>Шестой кассационный суд в Самаре начнет работу...</td>\n",
       "    </tr>\n",
       "    <tr>\n",
       "      <th>1</th>\n",
       "      <td>135310</td>\n",
       "      <td>urexpert.online</td>\n",
       "      <td>Что такое индексация алиментов, кем и в каких ...</td>\n",
       "    </tr>\n",
       "    <tr>\n",
       "      <th>2</th>\n",
       "      <td>135311</td>\n",
       "      <td>imperimeha.ru</td>\n",
       "      <td>Женщинам | Империя Меха - Part 12</td>\n",
       "    </tr>\n",
       "    <tr>\n",
       "      <th>3</th>\n",
       "      <td>135312</td>\n",
       "      <td>national-porn.com</td>\n",
       "      <td>Небритые, волосатые киски: Порно всех стран и ...</td>\n",
       "    </tr>\n",
       "    <tr>\n",
       "      <th>4</th>\n",
       "      <td>135313</td>\n",
       "      <td>2gis.ru</td>\n",
       "      <td>67</td>\n",
       "    </tr>\n",
       "    <tr>\n",
       "      <th>5</th>\n",
       "      <td>135314</td>\n",
       "      <td>ryazan.gorodrabot.ru</td>\n",
       "      <td>Вакансия Мерчендайзер визитный в Рязани, Групп...</td>\n",
       "    </tr>\n",
       "    <tr>\n",
       "      <th>6</th>\n",
       "      <td>135315</td>\n",
       "      <td>m.fotosklad.ru</td>\n",
       "      <td>Смартфон Apple iPhone XR 64GB Черный A2105 EU ...</td>\n",
       "    </tr>\n",
       "    <tr>\n",
       "      <th>7</th>\n",
       "      <td>135316</td>\n",
       "      <td>sim-dealer.ru</td>\n",
       "      <td>Духовой шкаф Siemens HB337GYS0R - Sim-Dealer. ...</td>\n",
       "    </tr>\n",
       "    <tr>\n",
       "      <th>8</th>\n",
       "      <td>135317</td>\n",
       "      <td>krasnoyarsk.hh.ru</td>\n",
       "      <td>Вакансия Аналитик Департамента внедрения инфор...</td>\n",
       "    </tr>\n",
       "    <tr>\n",
       "      <th>9</th>\n",
       "      <td>135318</td>\n",
       "      <td>vsetop.org</td>\n",
       "      <td>Anomaly Defenders v1.0 – торрент</td>\n",
       "    </tr>\n",
       "  </tbody>\n",
       "</table>\n",
       "</div>"
      ],
      "text/plain": [
       "       id                   url  \\\n",
       "0  135309     www.kommersant.ru   \n",
       "1  135310       urexpert.online   \n",
       "2  135311         imperimeha.ru   \n",
       "3  135312     national-porn.com   \n",
       "4  135313               2gis.ru   \n",
       "5  135314  ryazan.gorodrabot.ru   \n",
       "6  135315        m.fotosklad.ru   \n",
       "7  135316         sim-dealer.ru   \n",
       "8  135317     krasnoyarsk.hh.ru   \n",
       "9  135318            vsetop.org   \n",
       "\n",
       "                                               title  \n",
       "0  Шестой кассационный суд в Самаре начнет работу...  \n",
       "1  Что такое индексация алиментов, кем и в каких ...  \n",
       "2                  Женщинам | Империя Меха - Part 12  \n",
       "3  Небритые, волосатые киски: Порно всех стран и ...  \n",
       "4                                                 67  \n",
       "5  Вакансия Мерчендайзер визитный в Рязани, Групп...  \n",
       "6  Смартфон Apple iPhone XR 64GB Черный A2105 EU ...  \n",
       "7  Духовой шкаф Siemens HB337GYS0R - Sim-Dealer. ...  \n",
       "8  Вакансия Аналитик Департамента внедрения инфор...  \n",
       "9                   Anomaly Defenders v1.0 – торрент  "
      ]
     },
     "execution_count": 6,
     "metadata": {},
     "output_type": "execute_result"
    }
   ],
   "source": [
    "test_df.head(10)"
   ]
  },
  {
   "cell_type": "code",
   "execution_count": 7,
   "metadata": {},
   "outputs": [],
   "source": [
    "from nltk.corpus import stopwords\n",
    "stop_words = set(stopwords.words('english') + stopwords.words('russian'))"
   ]
  },
  {
   "cell_type": "code",
   "execution_count": 8,
   "metadata": {},
   "outputs": [],
   "source": [
    "from sklearn.feature_extraction.text import CountVectorizer\n",
    "vectorizer = CountVectorizer(stop_words=stop_words)"
   ]
  },
  {
   "cell_type": "code",
   "execution_count": 9,
   "metadata": {},
   "outputs": [],
   "source": [
    "X_train_vectorized = vectorizer.fit_transform(X_train)\n",
    "feature_names = np.array(vectorizer.get_feature_names())\n",
    "for i in np.arange(len(X_train)):\n",
    "    x_vector = X_train_vectorized.getrow(i).toarray()[0]\n",
    "    X_train[i] = [feature for feature in feature_names[x_vector > 0]]"
   ]
  },
  {
   "cell_type": "code",
   "execution_count": 11,
   "metadata": {},
   "outputs": [
    {
     "name": "stdout",
     "output_type": "stream",
     "text": [
      "8\n"
     ]
    }
   ],
   "source": [
    "from multiprocessing import cpu_count\n",
    "from gensim.models.word2vec import Word2Vec\n",
    "size = 100\n",
    "print(cpu_count())"
   ]
  },
  {
   "cell_type": "code",
   "execution_count": 12,
   "metadata": {},
   "outputs": [
    {
     "data": {
      "text/plain": [
       "(2950760, 3082431)"
      ]
     },
     "execution_count": 12,
     "metadata": {},
     "output_type": "execute_result"
    }
   ],
   "source": [
    "w2v_model = Word2Vec(X_train, min_count = 1, workers = cpu_count(), size=size) \n",
    "w2v_model.train(X_train, total_examples = w2v_model.corpus_count, epochs = 3) "
   ]
  },
  {
   "cell_type": "code",
   "execution_count": 13,
   "metadata": {},
   "outputs": [
    {
     "data": {
      "text/plain": [
       "[('ass', 0.9973467588424683),\n",
       " ('brunette', 0.9970313310623169),\n",
       " ('big', 0.9966017007827759),\n",
       " ('amateur', 0.9961438179016113),\n",
       " ('blonde', 0.9956956505775452),\n",
       " ('cock', 0.9942702651023865),\n",
       " ('babe', 0.9938454627990723),\n",
       " ('busty', 0.9934890270233154),\n",
       " ('ann', 0.9932354092597961),\n",
       " ('cum', 0.9922640323638916)]"
      ]
     },
     "execution_count": 13,
     "metadata": {},
     "output_type": "execute_result"
    }
   ],
   "source": [
    "w2v_model.wv.most_similar('boobs')"
   ]
  },
  {
   "cell_type": "code",
   "execution_count": 14,
   "metadata": {},
   "outputs": [
    {
     "name": "stdout",
     "output_type": "stream",
     "text": [
      "[[-0.37745202  0.46288394 -0.12085129 ...  0.22849409  0.11009969\n",
      "   0.18231687]\n",
      " [-0.44141312  0.41080603  0.03860883 ...  0.17092167  0.01580786\n",
      "   0.12276985]\n",
      " [-2.10621036  1.4406051   0.44077935 ...  0.31721446 -0.18933716\n",
      "  -0.0037977 ]\n",
      " ...\n",
      " [-0.42087844  0.50586717  0.06154004 ...  0.79018445 -0.33405273\n",
      "   0.02449279]\n",
      " [-0.34510349 -0.03569245  0.71730133 ...  0.99335116  0.09556121\n",
      "   0.16536962]\n",
      " [-0.35492505 -0.22959937  0.93018913 ...  1.24929148  0.36449476\n",
      "   0.29320618]]\n"
     ]
    }
   ],
   "source": [
    "def convert(data):\n",
    "    X = np.zeros((len(data), size))\n",
    "    for i in np.arange(len(data)):\n",
    "        for word in data[i]:\n",
    "            length = len(data[i])\n",
    "            X[i] += w2v_model.wv[word]/length\n",
    "    return X\n",
    "X = convert(X_train)\n",
    "print(X)"
   ]
  },
  {
   "cell_type": "code",
   "execution_count": 15,
   "metadata": {},
   "outputs": [],
   "source": [
    "X_test = test_df.drop(columns=[])\n",
    "X_test = X_test.title\n",
    "remove_digits(X_test)\n",
    "vectorize(X_test, vectorizer)"
   ]
  },
  {
   "cell_type": "code",
   "execution_count": 16,
   "metadata": {},
   "outputs": [],
   "source": [
    "from nltk.cluster.util import cosine_distance"
   ]
  },
  {
   "cell_type": "code",
   "execution_count": 17,
   "metadata": {},
   "outputs": [
    {
     "name": "stderr",
     "output_type": "stream",
     "text": [
      "C:\\Anaconda\\lib\\site-packages\\nltk\\cluster\\util.py:133: RuntimeWarning: invalid value encountered in double_scalars\n",
      "  return 1 - (numpy.dot(u, v) / (sqrt(numpy.dot(u, u)) * sqrt(numpy.dot(v, v))))\n"
     ]
    },
    {
     "data": {
      "text/plain": [
       "KNeighborsClassifier(algorithm='auto', leaf_size=30,\n",
       "                     metric=<function cosine_distance at 0x000001FBBFE8C798>,\n",
       "                     metric_params=None, n_jobs=-1, n_neighbors=3, p=2,\n",
       "                     weights='uniform')"
      ]
     },
     "execution_count": 17,
     "metadata": {},
     "output_type": "execute_result"
    }
   ],
   "source": [
    "from sklearn.neighbors import KNeighborsClassifier\n",
    "knn = KNeighborsClassifier(metric=cosine_distance, n_neighbors=3, n_jobs=-1)\n",
    "knn.fit(X, y_train)"
   ]
  },
  {
   "cell_type": "code",
   "execution_count": 18,
   "metadata": {},
   "outputs": [],
   "source": [
    "Y = convert(X_test)"
   ]
  },
  {
   "cell_type": "code",
   "execution_count": 19,
   "metadata": {
    "scrolled": true
   },
   "outputs": [
    {
     "name": "stderr",
     "output_type": "stream",
     "text": [
      "C:\\Anaconda\\lib\\site-packages\\nltk\\cluster\\util.py:133: RuntimeWarning: invalid value encountered in double_scalars\n",
      "  return 1 - (numpy.dot(u, v) / (sqrt(numpy.dot(u, u)) * sqrt(numpy.dot(v, v))))\n"
     ]
    }
   ],
   "source": [
    "y_pred = knn.predict(Y)"
   ]
  },
  {
   "cell_type": "code",
   "execution_count": 20,
   "metadata": {},
   "outputs": [],
   "source": [
    "test_df[\"target\"] = y_pred.astype(bool)\n",
    "test_df[[\"id\", \"target\"]].to_csv(\"Smirnov02.csv\", index=False)"
   ]
  },
  {
   "cell_type": "code",
   "execution_count": 24,
   "metadata": {},
   "outputs": [
    {
     "name": "stdout",
     "output_type": "stream",
     "text": [
      "[False False  True ... False False False]\n"
     ]
    }
   ],
   "source": [
    "print(y_pred)"
   ]
  }
 ],
 "metadata": {
  "kernelspec": {
   "display_name": "Python 3",
   "language": "python",
   "name": "python3"
  },
  "language_info": {
   "codemirror_mode": {
    "name": "ipython",
    "version": 3
   },
   "file_extension": ".py",
   "mimetype": "text/x-python",
   "name": "python",
   "nbconvert_exporter": "python",
   "pygments_lexer": "ipython3",
   "version": "3.7.6"
  }
 },
 "nbformat": 4,
 "nbformat_minor": 4
}
