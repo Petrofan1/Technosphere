{
 "cells": [
  {
   "cell_type": "code",
   "execution_count": 1,
   "metadata": {},
   "outputs": [],
   "source": [
    "import numpy as np\n",
    "import pandas as pd"
   ]
  },
  {
   "cell_type": "code",
   "execution_count": 2,
   "metadata": {},
   "outputs": [],
   "source": [
    "train_df = pd.read_csv(\"data/train.csv\")\n",
    "test_df = pd.read_csv(\"data/test.csv\")"
   ]
  },
  {
   "cell_type": "code",
   "execution_count": 3,
   "metadata": {},
   "outputs": [],
   "source": [
    "y_train = train_df.target\n",
    "X_train = train_df.drop(columns=[\"target\"])"
   ]
  },
  {
   "cell_type": "code",
   "execution_count": 4,
   "metadata": {},
   "outputs": [],
   "source": [
    "import re\n",
    "def remove_digits(DF):\n",
    "    for i in np.arange(len(DF)):\n",
    "        DF[i] = re.sub(r\"\\d+\", \"\", DF[i], flags=re.UNICODE)"
   ]
  },
  {
   "cell_type": "code",
   "execution_count": 5,
   "metadata": {},
   "outputs": [],
   "source": [
    "X_train = X_train[['url', 'title']].apply(lambda x:x[0] + \" \" + x[1], axis=1)\n",
    "remove_digits(X_train)"
   ]
  },
  {
   "cell_type": "code",
   "execution_count": 20,
   "metadata": {},
   "outputs": [
    {
     "data": {
      "text/plain": [
       "0    m.kp.md Экс-министр экономики Молдовы - главе ...\n",
       "1    www.kp.by Эта песня стала известна многим теле...\n",
       "2    fanserials.tv Банши  сезон  серия Бремя красот...\n",
       "3                colorbox.spb.ru Не Беси Меня Картинки\n",
       "4    tula-sport.ru В Новомосковске сыграют следж-хо...\n",
       "dtype: object"
      ]
     },
     "execution_count": 20,
     "metadata": {},
     "output_type": "execute_result"
    }
   ],
   "source": [
    "test_df.head(10)"
   ]
  },
  {
   "cell_type": "code",
   "execution_count": 7,
   "metadata": {},
   "outputs": [],
   "source": [
    "from nltk.corpus import stopwords\n",
    "stop_words = set(stopwords.words('english') + stopwords.words('russian') + ['ru', 'com', 'net'])"
   ]
  },
  {
   "cell_type": "code",
   "execution_count": 8,
   "metadata": {},
   "outputs": [],
   "source": [
    "from sklearn.feature_extraction.text import CountVectorizer\n",
    "vectorizer = CountVectorizer(stop_words=stop_words)"
   ]
  },
  {
   "cell_type": "code",
   "execution_count": 9,
   "metadata": {},
   "outputs": [],
   "source": [
    "X_train_vectorized = vectorizer.fit_transform(X_train)"
   ]
  },
  {
   "cell_type": "code",
   "execution_count": null,
   "metadata": {},
   "outputs": [],
   "source": [
    "from sklearn.model_selection import train_test_split\n",
    "Data_train, Data_test, Ans_train, Ans_test = train_test_split(X_train_vectorized, y_train, test_size=0.25, random_state=1, shuffle=True)\n",
    "print(Ans_train)"
   ]
  },
  {
   "cell_type": "code",
   "execution_count": 14,
   "metadata": {},
   "outputs": [
    {
     "name": "stdout",
     "output_type": "stream",
     "text": [
      "  (0, 47175)\t1\n",
      "  (0, 47825)\t2\n",
      "  (0, 56220)\t1\n",
      "  (0, 70143)\t1\n",
      "  (0, 75377)\t1\n",
      "  (0, 106453)\t1\n",
      "  (0, 115287)\t1\n",
      "  (0, 115742)\t1\n",
      "  (0, 117715)\t1\n",
      "  (0, 117977)\t1\n",
      "  (0, 132418)\t1\n",
      "  (0, 137817)\t1\n",
      "  (0, 153886)\t1\n",
      "  (1, 386)\t1\n",
      "  (1, 53222)\t1\n",
      "  (1, 82008)\t1\n",
      "  (1, 84922)\t1\n",
      "  (1, 97317)\t1\n",
      "  (1, 105737)\t1\n",
      "  (1, 129908)\t1\n",
      "  (1, 144726)\t1\n",
      "  (1, 147177)\t1\n",
      "  (1, 149517)\t1\n",
      "  (1, 149641)\t1\n",
      "  (1, 157022)\t1\n",
      "  :\t:\n",
      "  (101477, 25447)\t1\n",
      "  (101477, 28567)\t1\n",
      "  (101477, 37088)\t1\n",
      "  (101477, 72239)\t2\n",
      "  (101477, 74850)\t1\n",
      "  (101478, 76404)\t1\n",
      "  (101478, 128010)\t1\n",
      "  (101478, 138418)\t1\n",
      "  (101478, 177434)\t1\n",
      "  (101479, 3498)\t1\n",
      "  (101479, 3588)\t2\n",
      "  (101479, 140439)\t1\n",
      "  (101479, 159153)\t1\n",
      "  (101479, 164336)\t1\n",
      "  (101479, 184885)\t1\n",
      "  (101480, 39074)\t2\n",
      "  (101480, 85293)\t1\n",
      "  (101480, 97602)\t1\n",
      "  (101480, 113656)\t1\n",
      "  (101480, 129643)\t1\n",
      "  (101480, 132679)\t1\n",
      "  (101480, 137486)\t1\n",
      "  (101480, 160647)\t1\n",
      "  (101480, 160694)\t1\n",
      "  (101480, 164350)\t1\n",
      "      Iter       Train Loss   Remaining Time \n",
      "         1           0.6547           80.24m\n",
      "         2           0.6086           74.67m\n",
      "         3           0.5759           71.87m\n",
      "         4           0.5495           70.77m\n",
      "         5           0.5301           69.11m\n",
      "         6           0.5113           68.27m\n",
      "         7           0.4969           67.64m\n",
      "         8           0.4847           66.80m\n",
      "         9           0.4737           65.97m\n",
      "        10           0.4619           65.05m\n",
      "        11           0.4517           64.23m\n",
      "        12           0.4442           63.71m\n",
      "        13           0.4365           63.12m\n",
      "        14           0.4299           62.40m\n",
      "        15           0.4240           61.42m\n",
      "        16           0.4150           60.62m\n",
      "        17           0.4095           59.83m\n",
      "        18           0.4017           59.09m\n",
      "        19           0.3946           58.08m\n",
      "        20           0.3893           57.25m\n",
      "        21           0.3843           56.51m\n",
      "        22           0.3806           55.59m\n",
      "        23           0.3766           54.74m\n",
      "        24           0.3727           53.86m\n",
      "        25           0.3682           53.06m\n",
      "        26           0.3643           52.42m\n",
      "        27           0.3603           51.75m\n",
      "        28           0.3569           50.95m\n",
      "        29           0.3536           50.28m\n",
      "        30           0.3469           49.65m\n",
      "        31           0.3441           48.94m\n",
      "        32           0.3404           48.29m\n",
      "        33           0.3378           47.56m\n",
      "        34           0.3350           46.89m\n",
      "        35           0.3314           46.19m\n",
      "        36           0.3290           45.53m\n",
      "        37           0.3271           44.89m\n",
      "        38           0.3242           44.18m\n",
      "        39           0.3214           43.48m\n",
      "        40           0.3189           42.81m\n",
      "        41           0.3168           42.14m\n",
      "        42           0.3152           41.47m\n",
      "        43           0.3128           40.79m\n",
      "        44           0.3106           40.09m\n",
      "        45           0.3081           39.36m\n",
      "        46           0.3062           38.29m\n",
      "        47           0.3049           37.23m\n",
      "        48           0.3033           36.20m\n",
      "        49           0.3012           35.20m\n",
      "        50           0.2993           34.23m\n",
      "        51           0.2973           33.28m\n",
      "        52           0.2954           32.34m\n",
      "        53           0.2935           31.43m\n",
      "        54           0.2919           30.53m\n",
      "        55           0.2903           29.68m\n",
      "        56           0.2878           28.83m\n",
      "        57           0.2865           28.01m\n",
      "        58           0.2853           27.17m\n",
      "        59           0.2840           26.35m\n",
      "        60           0.2821           25.55m\n",
      "        61           0.2805           24.77m\n",
      "        62           0.2788           23.98m\n",
      "        63           0.2769           23.23m\n",
      "        64           0.2749           22.46m\n",
      "        65           0.2732           21.72m\n",
      "        66           0.2719           20.97m\n",
      "        67           0.2708           20.23m\n",
      "        68           0.2694           19.49m\n",
      "        69           0.2678           18.78m\n",
      "        70           0.2667           18.07m\n",
      "        71           0.2656           17.38m\n",
      "        72           0.2645           16.69m\n",
      "        73           0.2633           16.02m\n",
      "        74           0.2623           15.37m\n",
      "        75           0.2609           14.71m\n",
      "        76           0.2600           14.06m\n",
      "        77           0.2588           13.42m\n",
      "        78           0.2573           12.78m\n",
      "        79           0.2565           12.15m\n",
      "        80           0.2553           11.52m\n",
      "        81           0.2539           10.90m\n",
      "        82           0.2529           10.28m\n",
      "        83           0.2519            9.68m\n",
      "        84           0.2508            9.08m\n",
      "        85           0.2497            8.48m\n",
      "        86           0.2486            7.88m\n",
      "        87           0.2476            7.29m\n",
      "        88           0.2467            6.71m\n",
      "        89           0.2458            6.13m\n",
      "        90           0.2452            5.55m\n",
      "        91           0.2439            4.98m\n",
      "        92           0.2430            4.42m\n",
      "        93           0.2420            3.85m\n",
      "        94           0.2412            3.29m\n",
      "        95           0.2401            2.73m\n",
      "        96           0.2391            2.18m\n",
      "        97           0.2381            1.63m\n",
      "        98           0.2374            1.08m\n",
      "        99           0.2367           32.36s\n",
      "       100           0.2356            0.00s\n"
     ]
    },
    {
     "data": {
      "text/plain": [
       "GradientBoostingClassifier(ccp_alpha=0.0, criterion='friedman_mse', init=None,\n",
       "                           learning_rate=0.1, loss='deviance', max_depth=3,\n",
       "                           max_features=None, max_leaf_nodes=None,\n",
       "                           min_impurity_decrease=0.0, min_impurity_split=None,\n",
       "                           min_samples_leaf=1, min_samples_split=2,\n",
       "                           min_weight_fraction_leaf=0.0, n_estimators=100,\n",
       "                           n_iter_no_change=None, presort='deprecated',\n",
       "                           random_state=None, subsample=1.0, tol=0.0001,\n",
       "                           validation_fraction=0.1, verbose=2,\n",
       "                           warm_start=False)"
      ]
     },
     "execution_count": 14,
     "metadata": {},
     "output_type": "execute_result"
    }
   ],
   "source": [
    "print(Data_train)\n",
    "from sklearn.ensemble import GradientBoostingClassifier\n",
    "GB_model = GradientBoostingClassifier(verbose=2)\n",
    "GB_model.fit(Data_train, Ans_train)"
   ]
  },
  {
   "cell_type": "code",
   "execution_count": 17,
   "metadata": {
    "scrolled": true
   },
   "outputs": [
    {
     "name": "stdout",
     "output_type": "stream",
     "text": [
      "0.8543349488422187\n"
     ]
    }
   ],
   "source": [
    "from sklearn.metrics import f1_score\n",
    "y_pred = GB_model.predict(Data_test)\n",
    "print(f1_score(y_pred, Ans_test))"
   ]
  },
  {
   "cell_type": "code",
   "execution_count": 21,
   "metadata": {},
   "outputs": [],
   "source": [
    "X_test = test_df.drop(columns=[])\n",
    "X_test = X_test[['url', 'title']].apply(lambda x:x[0] + \" \" + x[1], axis=1)\n",
    "remove_digits(X_test)\n",
    "X_test_vectorized = vectorizer.transform(X_test)"
   ]
  },
  {
   "cell_type": "code",
   "execution_count": 23,
   "metadata": {},
   "outputs": [],
   "source": [
    "test_df[\"target\"] = GB_model.predict(X_test_vectorized).astype(bool)\n",
    "test_df[[\"id\", \"target\"]].to_csv(\"SmirnovGB.csv\", index=False)"
   ]
  },
  {
   "cell_type": "code",
   "execution_count": null,
   "metadata": {},
   "outputs": [],
   "source": []
  }
 ],
 "metadata": {
  "kernelspec": {
   "display_name": "Python 3",
   "language": "python",
   "name": "python3"
  },
  "language_info": {
   "codemirror_mode": {
    "name": "ipython",
    "version": 3
   },
   "file_extension": ".py",
   "mimetype": "text/x-python",
   "name": "python",
   "nbconvert_exporter": "python",
   "pygments_lexer": "ipython3",
   "version": "3.7.6"
  }
 },
 "nbformat": 4,
 "nbformat_minor": 4
}
