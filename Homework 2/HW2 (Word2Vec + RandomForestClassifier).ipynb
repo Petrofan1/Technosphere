{
 "cells": [
  {
   "cell_type": "code",
   "execution_count": 1,
   "metadata": {},
   "outputs": [],
   "source": [
    "import numpy as np\n",
    "import pandas as pd"
   ]
  },
  {
   "cell_type": "code",
   "execution_count": 2,
   "metadata": {},
   "outputs": [],
   "source": [
    "train_df = pd.read_csv(\"data/train.csv\")\n",
    "test_df = pd.read_csv(\"data/test.csv\")"
   ]
  },
  {
   "cell_type": "code",
   "execution_count": 3,
   "metadata": {},
   "outputs": [],
   "source": [
    "y_train = train_df.target\n",
    "X_train = train_df.drop(columns=[\"target\"])"
   ]
  },
  {
   "cell_type": "code",
   "execution_count": 4,
   "metadata": {},
   "outputs": [],
   "source": [
    "import re\n",
    "def remove_digits(DF):\n",
    "    for i in np.arange(len(DF)):\n",
    "        DF[i] = re.sub(r\"\\d+\", \"\", DF[i], flags=re.UNICODE)"
   ]
  },
  {
   "cell_type": "code",
   "execution_count": 5,
   "metadata": {},
   "outputs": [],
   "source": [
    "X_train = X_train.title\n",
    "remove_digits(X_train)"
   ]
  },
  {
   "cell_type": "code",
   "execution_count": 6,
   "metadata": {},
   "outputs": [
    {
     "data": {
      "text/html": [
       "<div>\n",
       "<style scoped>\n",
       "    .dataframe tbody tr th:only-of-type {\n",
       "        vertical-align: middle;\n",
       "    }\n",
       "\n",
       "    .dataframe tbody tr th {\n",
       "        vertical-align: top;\n",
       "    }\n",
       "\n",
       "    .dataframe thead th {\n",
       "        text-align: right;\n",
       "    }\n",
       "</style>\n",
       "<table border=\"1\" class=\"dataframe\">\n",
       "  <thead>\n",
       "    <tr style=\"text-align: right;\">\n",
       "      <th></th>\n",
       "      <th>id</th>\n",
       "      <th>url</th>\n",
       "      <th>title</th>\n",
       "    </tr>\n",
       "  </thead>\n",
       "  <tbody>\n",
       "    <tr>\n",
       "      <th>0</th>\n",
       "      <td>135309</td>\n",
       "      <td>www.kommersant.ru</td>\n",
       "      <td>Шестой кассационный суд в Самаре начнет работу...</td>\n",
       "    </tr>\n",
       "    <tr>\n",
       "      <th>1</th>\n",
       "      <td>135310</td>\n",
       "      <td>urexpert.online</td>\n",
       "      <td>Что такое индексация алиментов, кем и в каких ...</td>\n",
       "    </tr>\n",
       "    <tr>\n",
       "      <th>2</th>\n",
       "      <td>135311</td>\n",
       "      <td>imperimeha.ru</td>\n",
       "      <td>Женщинам | Империя Меха - Part 12</td>\n",
       "    </tr>\n",
       "    <tr>\n",
       "      <th>3</th>\n",
       "      <td>135312</td>\n",
       "      <td>national-porn.com</td>\n",
       "      <td>Небритые, волосатые киски: Порно всех стран и ...</td>\n",
       "    </tr>\n",
       "    <tr>\n",
       "      <th>4</th>\n",
       "      <td>135313</td>\n",
       "      <td>2gis.ru</td>\n",
       "      <td>67</td>\n",
       "    </tr>\n",
       "    <tr>\n",
       "      <th>5</th>\n",
       "      <td>135314</td>\n",
       "      <td>ryazan.gorodrabot.ru</td>\n",
       "      <td>Вакансия Мерчендайзер визитный в Рязани, Групп...</td>\n",
       "    </tr>\n",
       "    <tr>\n",
       "      <th>6</th>\n",
       "      <td>135315</td>\n",
       "      <td>m.fotosklad.ru</td>\n",
       "      <td>Смартфон Apple iPhone XR 64GB Черный A2105 EU ...</td>\n",
       "    </tr>\n",
       "    <tr>\n",
       "      <th>7</th>\n",
       "      <td>135316</td>\n",
       "      <td>sim-dealer.ru</td>\n",
       "      <td>Духовой шкаф Siemens HB337GYS0R - Sim-Dealer. ...</td>\n",
       "    </tr>\n",
       "    <tr>\n",
       "      <th>8</th>\n",
       "      <td>135317</td>\n",
       "      <td>krasnoyarsk.hh.ru</td>\n",
       "      <td>Вакансия Аналитик Департамента внедрения инфор...</td>\n",
       "    </tr>\n",
       "    <tr>\n",
       "      <th>9</th>\n",
       "      <td>135318</td>\n",
       "      <td>vsetop.org</td>\n",
       "      <td>Anomaly Defenders v1.0 – торрент</td>\n",
       "    </tr>\n",
       "  </tbody>\n",
       "</table>\n",
       "</div>"
      ],
      "text/plain": [
       "       id                   url  \\\n",
       "0  135309     www.kommersant.ru   \n",
       "1  135310       urexpert.online   \n",
       "2  135311         imperimeha.ru   \n",
       "3  135312     national-porn.com   \n",
       "4  135313               2gis.ru   \n",
       "5  135314  ryazan.gorodrabot.ru   \n",
       "6  135315        m.fotosklad.ru   \n",
       "7  135316         sim-dealer.ru   \n",
       "8  135317     krasnoyarsk.hh.ru   \n",
       "9  135318            vsetop.org   \n",
       "\n",
       "                                               title  \n",
       "0  Шестой кассационный суд в Самаре начнет работу...  \n",
       "1  Что такое индексация алиментов, кем и в каких ...  \n",
       "2                  Женщинам | Империя Меха - Part 12  \n",
       "3  Небритые, волосатые киски: Порно всех стран и ...  \n",
       "4                                                 67  \n",
       "5  Вакансия Мерчендайзер визитный в Рязани, Групп...  \n",
       "6  Смартфон Apple iPhone XR 64GB Черный A2105 EU ...  \n",
       "7  Духовой шкаф Siemens HB337GYS0R - Sim-Dealer. ...  \n",
       "8  Вакансия Аналитик Департамента внедрения инфор...  \n",
       "9                   Anomaly Defenders v1.0 – торрент  "
      ]
     },
     "execution_count": 6,
     "metadata": {},
     "output_type": "execute_result"
    }
   ],
   "source": [
    "test_df.head(10)"
   ]
  },
  {
   "cell_type": "code",
   "execution_count": 7,
   "metadata": {},
   "outputs": [],
   "source": [
    "from nltk.corpus import stopwords\n",
    "stop_words = set(stopwords.words('english') + stopwords.words('russian'))"
   ]
  },
  {
   "cell_type": "code",
   "execution_count": 8,
   "metadata": {},
   "outputs": [],
   "source": [
    "from sklearn.feature_extraction.text import CountVectorizer\n",
    "vectorizer = CountVectorizer(stop_words=stop_words)"
   ]
  },
  {
   "cell_type": "code",
   "execution_count": 9,
   "metadata": {},
   "outputs": [],
   "source": [
    "X_train_vectorized = vectorizer.fit_transform(X_train)\n",
    "feature_names = np.array(vectorizer.get_feature_names())\n",
    "for i in np.arange(len(X_train)):\n",
    "    x_vector = X_train_vectorized.getrow(i).toarray()[0]\n",
    "    X_train[i] = [feature for feature in feature_names[x_vector > 0]]"
   ]
  },
  {
   "cell_type": "code",
   "execution_count": 10,
   "metadata": {},
   "outputs": [],
   "source": [
    "def vectorize(DF, vectorizer):\n",
    "    DF_vectorized = vectorizer.transform(DF)\n",
    "    feature_names = np.array(vectorizer.get_feature_names())\n",
    "    for i in np.arange(len(DF)):\n",
    "        x_vector = DF_vectorized.getrow(i).toarray()[0]\n",
    "        DF[i] = [feature for feature in feature_names[x_vector > 0]]"
   ]
  },
  {
   "cell_type": "code",
   "execution_count": 85,
   "metadata": {},
   "outputs": [],
   "source": [
    "from multiprocessing import cpu_count\n",
    "from gensim.models.word2vec import Word2Vec\n",
    "size = 100"
   ]
  },
  {
   "cell_type": "code",
   "execution_count": 86,
   "metadata": {},
   "outputs": [
    {
     "data": {
      "text/plain": [
       "(2950854, 3082431)"
      ]
     },
     "execution_count": 86,
     "metadata": {},
     "output_type": "execute_result"
    }
   ],
   "source": [
    "w2v_model = Word2Vec(X_train, min_count = 1, workers = cpu_count(), size=size) \n",
    "w2v_model.train(X_train, total_examples = w2v_model.corpus_count, epochs = 3) "
   ]
  },
  {
   "cell_type": "code",
   "execution_count": 87,
   "metadata": {},
   "outputs": [
    {
     "data": {
      "text/plain": [
       "[('amateur', 0.9977993369102478),\n",
       " ('cumshot', 0.9962483644485474),\n",
       " ('cum', 0.9956215023994446),\n",
       " ('blonde', 0.9955916404724121),\n",
       " ('bbw', 0.9953222870826721),\n",
       " ('butt', 0.9951209425926208),\n",
       " ('dildo', 0.994665265083313),\n",
       " ('cowgirl', 0.9944596886634827),\n",
       " ('dick', 0.9939305782318115),\n",
       " ('asian', 0.9938560724258423)]"
      ]
     },
     "execution_count": 87,
     "metadata": {},
     "output_type": "execute_result"
    }
   ],
   "source": [
    "w2v_model.wv.most_similar('boobs')"
   ]
  },
  {
   "cell_type": "code",
   "execution_count": 88,
   "metadata": {},
   "outputs": [
    {
     "name": "stdout",
     "output_type": "stream",
     "text": [
      "[[ 1.04584338e-01 -2.55662730e-01  8.27407924e-02 ...  2.36622254e-01\n",
      "  -1.98850208e-01  6.57837010e-01]\n",
      " [-6.42691360e-02 -1.95368196e-01  4.70723593e-02 ...  5.95994020e-03\n",
      "  -3.60606212e-01  3.18254547e-01]\n",
      " [ 1.58372413e-01 -2.40983504e+00  2.83045888e+00 ... -8.27999495e-01\n",
      "  -1.64244153e+00  1.42996362e+00]\n",
      " ...\n",
      " [ 8.27458318e-01 -1.20626860e+00 -8.42313553e-02 ...  5.39287671e-01\n",
      "   3.91442514e-01 -6.64962921e-04]\n",
      " [ 1.60203813e+00 -3.80611377e-01  1.03514545e+00 ... -1.29794353e-02\n",
      "  -6.25451255e-01  1.97928884e+00]\n",
      " [ 1.83822211e+00 -2.51110767e-01  1.19899915e+00 ... -1.84408695e-01\n",
      "  -7.10842393e-01  2.69942693e+00]]\n"
     ]
    }
   ],
   "source": [
    "def convert(data):\n",
    "    X = np.zeros((len(data), size))\n",
    "    for i in np.arange(len(data)):\n",
    "        for word in data[i]:\n",
    "            length = len(data[i])\n",
    "            X[i] += w2v_model.wv[word]/length\n",
    "    return X\n",
    "X = convert(X_train)\n",
    "print(X)"
   ]
  },
  {
   "cell_type": "code",
   "execution_count": null,
   "metadata": {},
   "outputs": [],
   "source": [
    "X_test = test_df.drop(columns=[])\n",
    "X_test = X_test.title\n",
    "remove_digits(X_test)\n",
    "vectorize(X_test, vectorizer)"
   ]
  },
  {
   "cell_type": "code",
   "execution_count": null,
   "metadata": {},
   "outputs": [],
   "source": [
    "from sklearn.ensemble import RandomForestClassifier\n",
    "forest_model = RandomForestClassifier(verbose=1, n_jobs=cpu_count())\n",
    "forest_model.fit(X, y_train)"
   ]
  },
  {
   "cell_type": "code",
   "execution_count": 23,
   "metadata": {
    "scrolled": true
   },
   "outputs": [
    {
     "name": "stderr",
     "output_type": "stream",
     "text": [
      "[Parallel(n_jobs=8)]: Using backend ThreadingBackend with 8 concurrent workers.\n",
      "[Parallel(n_jobs=8)]: Done  34 tasks      | elapsed:    0.2s\n",
      "[Parallel(n_jobs=8)]: Done 100 out of 100 | elapsed:    0.5s finished\n"
     ]
    },
    {
     "name": "stdout",
     "output_type": "stream",
     "text": [
      "0.9935611987002047\n"
     ]
    }
   ],
   "source": [
    "from sklearn.metrics import f1_score\n",
    "y_pred = forest_model.predict(X)\n",
    "print(f1_score(y_pred, y_train))"
   ]
  },
  {
   "cell_type": "code",
   "execution_count": 89,
   "metadata": {},
   "outputs": [],
   "source": [
    "Y = convert(X_test)"
   ]
  },
  {
   "cell_type": "code",
   "execution_count": 25,
   "metadata": {},
   "outputs": [
    {
     "name": "stderr",
     "output_type": "stream",
     "text": [
      "[Parallel(n_jobs=8)]: Using backend ThreadingBackend with 8 concurrent workers.\n",
      "[Parallel(n_jobs=8)]: Done  34 tasks      | elapsed:    0.2s\n",
      "[Parallel(n_jobs=8)]: Done 100 out of 100 | elapsed:    0.6s finished\n"
     ]
    }
   ],
   "source": [
    "test_df[\"target\"] = forest_model.predict(Y).astype(bool)\n",
    "test_df[[\"id\", \"target\"]].to_csv(\"Smirnov01.csv\", index=False)"
   ]
  }
 ],
 "metadata": {
  "kernelspec": {
   "display_name": "Python 3",
   "language": "python",
   "name": "python3"
  },
  "language_info": {
   "codemirror_mode": {
    "name": "ipython",
    "version": 3
   },
   "file_extension": ".py",
   "mimetype": "text/x-python",
   "name": "python",
   "nbconvert_exporter": "python",
   "pygments_lexer": "ipython3",
   "version": "3.7.6"
  }
 },
 "nbformat": 4,
 "nbformat_minor": 4
}
